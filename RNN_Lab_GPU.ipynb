{
  "nbformat": 4,
  "nbformat_minor": 0,
  "metadata": {
    "kernelspec": {
      "display_name": "Python 3",
      "language": "python",
      "name": "python3"
    },
    "language_info": {
      "codemirror_mode": {
        "name": "ipython",
        "version": 3
      },
      "file_extension": ".py",
      "mimetype": "text/x-python",
      "name": "python",
      "nbconvert_exporter": "python",
      "pygments_lexer": "ipython3",
      "version": "3.7.7"
    },
    "colab": {
      "name": "RNN_Lab_GPU.ipynb",
      "provenance": [],
      "toc_visible": true,
      "include_colab_link": true
    },
    "accelerator": "GPU"
  },
  "cells": [
    {
      "cell_type": "markdown",
      "metadata": {
        "id": "view-in-github",
        "colab_type": "text"
      },
      "source": [
        "<a href=\"https://colab.research.google.com/github/vyspi394/Deep-Learning/blob/master/RNN_Lab_GPU.ipynb\" target=\"_parent\"><img src=\"https://colab.research.google.com/assets/colab-badge.svg\" alt=\"Open In Colab\"/></a>"
      ]
    },
    {
      "cell_type": "code",
      "metadata": {
        "id": "w1A2MUc_i16m",
        "colab_type": "code",
        "colab": {
          "base_uri": "https://localhost:8080/",
          "height": 121
        },
        "outputId": "a66d2c94-6861-4d64-ce39-412a454d7984"
      },
      "source": [
        "from google.colab import drive\n",
        "drive.mount('/content/drive')"
      ],
      "execution_count": 2,
      "outputs": [
        {
          "output_type": "stream",
          "text": [
            "Go to this URL in a browser: https://accounts.google.com/o/oauth2/auth?client_id=947318989803-6bn6qk8qdgf4n4g3pfee6491hc0brc4i.apps.googleusercontent.com&redirect_uri=urn%3aietf%3awg%3aoauth%3a2.0%3aoob&response_type=code&scope=email%20https%3a%2f%2fwww.googleapis.com%2fauth%2fdocs.test%20https%3a%2f%2fwww.googleapis.com%2fauth%2fdrive%20https%3a%2f%2fwww.googleapis.com%2fauth%2fdrive.photos.readonly%20https%3a%2f%2fwww.googleapis.com%2fauth%2fpeopleapi.readonly\n",
            "\n",
            "Enter your authorization code:\n",
            "··········\n",
            "Mounted at /content/drive\n"
          ],
          "name": "stdout"
        }
      ]
    },
    {
      "cell_type": "markdown",
      "metadata": {
        "id": "ZeomGWd9iuOy",
        "colab_type": "text"
      },
      "source": [
        "# Part-of-Speech Tagging with Recurrent Neural Networks"
      ]
    },
    {
      "cell_type": "markdown",
      "metadata": {
        "id": "HqkXZuMpiuO0",
        "colab_type": "text"
      },
      "source": [
        "Your task in this assignment is to implement a simple part-of-speech tagger based on recurrent neural networks."
      ]
    },
    {
      "cell_type": "markdown",
      "metadata": {
        "id": "U2h9CRoYiuO1",
        "colab_type": "text"
      },
      "source": [
        "## Get a graphics card"
      ]
    },
    {
      "cell_type": "code",
      "metadata": {
        "id": "xlEOdEndiuO2",
        "colab_type": "code",
        "colab": {
          "base_uri": "https://localhost:8080/",
          "height": 34
        },
        "outputId": "18f671dc-d17d-46c5-84d2-395e77215e2e"
      },
      "source": [
        "import os\n",
        "import warnings\n",
        "\n",
        "# Ignore FutureWarning from numpy\n",
        "warnings.simplefilter(action='ignore', category=FutureWarning)\n",
        "\n",
        "import keras.backend as K\n",
        "import tensorflow as tf\n",
        "\n",
        "os.environ[\"CUDA_DEVICE_ORDER\"]=\"PCI_BUS_ID\";\n",
        " \n",
        "# The GPU id to use, usually either \"0\" or \"1\";\n",
        "os.environ[\"CUDA_VISIBLE_DEVICES\"]=\"0\";\n",
        "\n",
        "# Allow growth of GPU memory, otherwise it will always look like all the memory is being used\n",
        "physical_devices = tf.config.experimental.list_physical_devices('GPU')\n",
        "tf.config.experimental.set_memory_growth(physical_devices[0], True) "
      ],
      "execution_count": 1,
      "outputs": [
        {
          "output_type": "stream",
          "text": [
            "Using TensorFlow backend.\n"
          ],
          "name": "stderr"
        }
      ]
    },
    {
      "cell_type": "markdown",
      "metadata": {
        "id": "AwKCBtywiuO7",
        "colab_type": "text"
      },
      "source": [
        "## Problem specification"
      ]
    },
    {
      "cell_type": "markdown",
      "metadata": {
        "id": "pesOQH9_iuO8",
        "colab_type": "text"
      },
      "source": [
        "Your task in this assignment is\n",
        "\n",
        "1. to build a part-of-speech tagger based on a recurrent neural network architecture\n",
        "2. to train this tagger on the provided training data and identify a good model\n",
        "2. to evaluate the performance of this model on the provided test data\n",
        "\n",
        "To identify a good model, you can use the provided development (validation) data."
      ]
    },
    {
      "cell_type": "markdown",
      "metadata": {
        "id": "YCLOKtAbiuO8",
        "colab_type": "text"
      },
      "source": [
        "## Part-of-speech tagging"
      ]
    },
    {
      "cell_type": "markdown",
      "metadata": {
        "id": "XDxSaEBkiuO9",
        "colab_type": "text"
      },
      "source": [
        "Part-of-speech (POS) tagging is the task of labelling words (tokens) with [parts of speech](https://en.wikipedia.org/wiki/Part_of_speech). To give an example, consider the  sentence *Parker hates parsnips*. In this sentence, the word *Parker* should be labelled as a proper noun (a noun that is the name of a person), *hates* should be labelled as a verb, and *parsnips* should be labelled as a (common) noun. Part-of-speech tagging is an essential ingredient of many state-of-the-art natural language understanding systems.\n",
        "\n",
        "Part-of-speech tagging can be cast as a supervised machine learning problem where the gold-standard data consists of sentences whose words have been manually annotated with parts of speech. For the present assignment you will be using a corpus built over the source material of the [English Web Treebank](https://catalog.ldc.upenn.edu/ldc2012t13), consisting of approximately 16,000&nbsp;sentences with 254,000&nbsp;tokens. The corpus has been released by the [Universal Dependencies Project](http://universaldependencies.org).\n",
        "\n",
        "To make it easier to compare systems, the gold-standard data has been split into three parts: training, development (validation), and test. The following cell provides a function that can be used to load the data."
      ]
    },
    {
      "cell_type": "code",
      "metadata": {
        "id": "CjopWK3riuO-",
        "colab_type": "code",
        "colab": {}
      },
      "source": [
        "def read_data(path):\n",
        "    with open(path, encoding='utf-8') as fp:\n",
        "        result = []\n",
        "        for line in fp:\n",
        "            line = line.rstrip()\n",
        "            if len(line) == 0:\n",
        "                yield result\n",
        "                result = []\n",
        "            elif not line.startswith('#'):\n",
        "                columns = line.split()\n",
        "                if columns[0].isdigit():\n",
        "                    result.append((columns[1], columns[3]))"
      ],
      "execution_count": 0,
      "outputs": []
    },
    {
      "cell_type": "markdown",
      "metadata": {
        "id": "W6ENAk4siuPC",
        "colab_type": "text"
      },
      "source": [
        "The next cell loads the data:"
      ]
    },
    {
      "cell_type": "code",
      "metadata": {
        "id": "XV6nyQxniuPC",
        "colab_type": "code",
        "colab": {
          "base_uri": "https://localhost:8080/",
          "height": 67
        },
        "outputId": "b0ce83eb-2356-4bde-d7ca-00fdc97eb199"
      },
      "source": [
        "train_data = list(read_data('/content/drive/My Drive/Colab Notebooks/RNN/en_ewt-ud-train.conllu'))\n",
        "print('Number of sentences in the training data: {}'.format(len(train_data)))\n",
        "\n",
        "dev_data = list(read_data('/content/drive/My Drive/Colab Notebooks/RNN/en_ewt-ud-dev.conllu'))\n",
        "print('Number of sentences in the development data: {}'.format(len(dev_data)))\n",
        "\n",
        "test_data = list(read_data('/content/drive/My Drive/Colab Notebooks/RNN/en_ewt-ud-test.conllu'))\n",
        "print('Number of sentences in the test data: {}'.format(len(test_data)))"
      ],
      "execution_count": 4,
      "outputs": [
        {
          "output_type": "stream",
          "text": [
            "Number of sentences in the training data: 12543\n",
            "Number of sentences in the development data: 2002\n",
            "Number of sentences in the test data: 2077\n"
          ],
          "name": "stdout"
        }
      ]
    },
    {
      "cell_type": "markdown",
      "metadata": {
        "id": "cqFQED0biuPF",
        "colab_type": "text"
      },
      "source": [
        "From a Python perspective, each of the data sets is a list of what we shall refer to as *tagged sentences*. A tagged sentence, in turn, is a list of pairs $(w,t)$, where $w$ is a word token and $t$ is the word&rsquo;s POS tag. Here is an example from the training data to show you how this looks like:"
      ]
    },
    {
      "cell_type": "code",
      "metadata": {
        "id": "9NdMdre4iuPG",
        "colab_type": "code",
        "colab": {
          "base_uri": "https://localhost:8080/",
          "height": 235
        },
        "outputId": "95d7344b-94f3-46b7-b280-885a95cf460b"
      },
      "source": [
        "train_data[42]"
      ],
      "execution_count": 5,
      "outputs": [
        {
          "output_type": "execute_result",
          "data": {
            "text/plain": [
              "[('There', 'PRON'),\n",
              " ('has', 'AUX'),\n",
              " ('been', 'VERB'),\n",
              " ('talk', 'NOUN'),\n",
              " ('that', 'SCONJ'),\n",
              " ('the', 'DET'),\n",
              " ('night', 'NOUN'),\n",
              " ('curfew', 'NOUN'),\n",
              " ('might', 'AUX'),\n",
              " ('be', 'AUX'),\n",
              " ('implemented', 'VERB'),\n",
              " ('again', 'ADV'),\n",
              " ('.', 'PUNCT')]"
            ]
          },
          "metadata": {
            "tags": []
          },
          "execution_count": 5
        }
      ]
    },
    {
      "cell_type": "markdown",
      "metadata": {
        "id": "ihu-gWzAiuPK",
        "colab_type": "text"
      },
      "source": [
        "You will see part-of-speech tags such as `VERB` for verb, `NOUN` for noun, and `ADV` for adverb. If you are interested in learning more about the tag set used in the gold-standard data, you can have a look at the documentation of the [Universal POS tags](http://universaldependencies.org/u/pos/all.html). However, you do not need to understand the meaning of the POS tags to solve this assignment; you can simply treat them as labels drawn from a finite set of alternatives."
      ]
    },
    {
      "cell_type": "markdown",
      "metadata": {
        "id": "6Es239O4iuPK",
        "colab_type": "text"
      },
      "source": [
        "## Network architecture"
      ]
    },
    {
      "cell_type": "markdown",
      "metadata": {
        "id": "J8tCGeBliuPL",
        "colab_type": "text"
      },
      "source": [
        "The proposed network architecture for your tagger is a sequential model with three layers, illustrated below: an embedding, a bidirectional LSTM, and a softmax layer. The embedding turns word indexes (integers representing words) into fixed-size dense vectors which are then fed into the bidirectional LSTM. The output of the LSTM at each position of the sentence is passed to a softmax layer which predicts the POS tag for the word at that position.\n",
        "\n",
        "![architecture.png](attachment:architecture.png)\n",
        "\n",
        "To implement the network architecture, you will use [Keras](https://keras.io/). Keras comes with an extensive online documentation, and reading the relevant parts of this documentation will be essential when working on this assignment. We suggest to start with the tutorial [Getting started with the Keras Sequential model](https://keras.io/getting-started/sequential-model-guide/). After that, you should have a look at some of the examples mentioned in that tutorial, and in particular the [Bidirectional LSTM](https://keras.io/examples/imdb_bidirectional_lstm/) example."
      ]
    },
    {
      "cell_type": "markdown",
      "metadata": {
        "id": "FG1HWT3tiuPL",
        "colab_type": "text"
      },
      "source": [
        "## Evaluation"
      ]
    },
    {
      "cell_type": "markdown",
      "metadata": {
        "id": "44GMFliviuPM",
        "colab_type": "text"
      },
      "source": [
        "The most widely-used evaluation measure for part-of-speech tagging is per-word accuracy, which is the percentage of words to which the tagger assigns the correct tag (according to the gold standard). This is one of the default metrics in Keras.\n",
        "\n",
        "One problem that you will encounter during evaluation is that the evaluation data contains words that you did not see (and did not add to your index) during training. The simplest solution to this problem is to introduce a special &lsquo;word&rsquo; `<unk>` and replace each unknown word with this pseudoword."
      ]
    },
    {
      "cell_type": "markdown",
      "metadata": {
        "id": "PFryGy6riuPN",
        "colab_type": "text"
      },
      "source": [
        "## Part 1: Pre-process the data"
      ]
    },
    {
      "cell_type": "markdown",
      "metadata": {
        "id": "hwVwvaRZiuPN",
        "colab_type": "text"
      },
      "source": [
        "Before you can start to implement the network architecture as such, you will have to bring the tagged sentences from the gold-standard data into a form that can be used with the network. One important step in this is to map the words and tags (strings) to integers. Here is code that illustrates the idea:"
      ]
    },
    {
      "cell_type": "code",
      "metadata": {
        "id": "JVIajUydiuPO",
        "colab_type": "code",
        "colab": {
          "base_uri": "https://localhost:8080/",
          "height": 50
        },
        "outputId": "09424cc8-5607-4489-ef8e-5d1843caf0f3"
      },
      "source": [
        "word_to_index = {}\n",
        "for tagged_sentence in train_data:\n",
        "    for word, tag in tagged_sentence:\n",
        "        if word not in word_to_index:\n",
        "            word_to_index[word] = len(word_to_index)\n",
        "\n",
        "print('Number of unique words in the training data: {}'.format(len(word_to_index)))\n",
        "print('Index of the word \"hates\": {}'.format(word_to_index['hates']))"
      ],
      "execution_count": 6,
      "outputs": [
        {
          "output_type": "stream",
          "text": [
            "Number of unique words in the training data: 19672\n",
            "Index of the word \"hates\": 4579\n"
          ],
          "name": "stdout"
        }
      ]
    },
    {
      "cell_type": "markdown",
      "metadata": {
        "id": "0tnW3ZnRiuPQ",
        "colab_type": "text"
      },
      "source": [
        "Once you have indexes for the words and the tags, you can construct the input and the gold-standard output tensor required to train the network.\n",
        "\n",
        "### Constructing the input tensor\n",
        "\n",
        "The input tensor should be of shape $(N, n)$ where $N$ is the total number of sentences in the training data and $n$ is the length of the longest sentence. Note that Keras requires all sequences in an input tensor to have the same length, which means that you will have to pad all sequences to that length. You can use the helper function [`pad_sequences`](https://www.tensorflow.org/api_docs/python/tf/keras/preprocessing/sequence/pad_sequences) for this, which by default will front-pad sequences with the value&nbsp;0. It is essential then that you do not use this special padding value as the index of actual words.\n",
        "\n",
        "### Constructing the target output tensor\n",
        "\n",
        "The target output tensor should be of shape $(N, n, T)$ where $T$ is the number of unique tags in the training data, plus one to cater for the special padding value. The additional dimension corresponds to the fact that the softmax layer of the network will output one $T$-dimensional vector for each position of an input sentence. To construct this vector, you can use the helper function [`to_categorical`](https://www.tensorflow.org/api_docs/python/tf/keras/utils/to_categorical)."
      ]
    },
    {
      "cell_type": "code",
      "metadata": {
        "id": "rSEyFClNiuPR",
        "colab_type": "code",
        "colab": {
          "base_uri": "https://localhost:8080/",
          "height": 50
        },
        "outputId": "a02db9ec-dcab-4f2e-a6b7-d57980d3def5"
      },
      "source": [
        "# Define a help function to build index from a list of words or tags, each word / tag will have a unique number\n",
        "def build_index(strings, init=[]):\n",
        "    string_to_index = {s: i for i, s in enumerate(init)}\n",
        "    # Loop over strings in 'strings'\n",
        "    for string in strings:\n",
        "      # Check if string exists in variable 'string_to_index', \n",
        "      # if string does not exist, add a new element to 'string_to_index': the current length of 'string_to_index'\n",
        "      if string not in string_to_index:\n",
        "        string_to_index[string]=len(string_to_index)  \n",
        "    return string_to_index\n",
        "\n",
        "# Convert all words and tags in train_data to lists, start with empty lists and use '.append()' \n",
        "# to add one word / tag at a time, similar to the cell below 'pre-process the data'\n",
        "words, tags = [], []\n",
        "for tagged_sentence in train_data:\n",
        "  for word,tag in tagged_sentence:\n",
        "    words.append(word)\n",
        "    tags.append(tag)\n",
        "\n",
        "# Call the help function you made, to build an index for words (word_to_index), and one index for tags (tag_to_index)\n",
        "word_to_index=build_index(words,['<pad>','<unk>'])\n",
        "tag_to_index=build_index(tags,['<pad>'])\n",
        "\n",
        "# Check number of words and tags\n",
        "num_words = len(word_to_index)\n",
        "num_tags = len(tag_to_index)\n",
        "\n",
        "print(f'Number of unique words in the training data: {num_words}')\n",
        "print(f'Number of unique tags in the training_data: {num_tags}')"
      ],
      "execution_count": 7,
      "outputs": [
        {
          "output_type": "stream",
          "text": [
            "Number of unique words in the training data: 19674\n",
            "Number of unique tags in the training_data: 18\n"
          ],
          "name": "stdout"
        }
      ]
    },
    {
      "cell_type": "code",
      "metadata": {
        "id": "2ga2nHyQiuPT",
        "colab_type": "code",
        "colab": {
          "base_uri": "https://localhost:8080/",
          "height": 50
        },
        "outputId": "de9ab33c-a6a0-420a-e5db-f251891d2ce9"
      },
      "source": [
        "from tensorflow.keras.preprocessing.sequence import pad_sequences\n",
        "from tensorflow.keras.utils import to_categorical\n",
        "\n",
        "# Make a function that converts the tagged sentences, word indices and tag indices to \n",
        "# X and Y, that can be used when training the RNN\n",
        "def encode(tagged_sentences, word_to_index, tag_to_index):\n",
        "    \n",
        "    # Start with empty lists that will contain all training examples and corresponding output\n",
        "    X, Y = [], []\n",
        "\n",
        "    # Loop over tagged sentences\n",
        "    for current_tagged_sentence in tagged_sentences:\n",
        "        Xcurrent, Ycurrent = [], []\n",
        "        \n",
        "        for word,tag in current_tagged_sentence:# Loop over words and tags in current sentence\n",
        "    \n",
        "             if word not in word_to_index:\n",
        "               Xcurrent.append(word_to_index.get('<unk>'))#adding an unkown word index\n",
        "             else:\n",
        "               Xcurrent.append(word_to_index.get(word))#adding the index of the word\n",
        "            \n",
        "             if tag not in tag_to_index:\n",
        "               Ycurrent.append(tag_to_index.get('<unk>'))#adding an unkown tag index\n",
        "             else:\n",
        "               Ycurrent.append(tag_to_index.get(tag))#adding the index of an exitsing tag\n",
        "          \n",
        "        # Append X with Xcurrent, and Y with Ycurrent\n",
        "        X.append(Xcurrent)\n",
        "        Y.append(Ycurrent)\n",
        "    \n",
        "    # Pad the sequences, so that all have the same length\n",
        "    X=pad_sequences(sequences=X,padding='post')\n",
        "    Y=pad_sequences(sequences=Y,padding='post')\n",
        "    # Convert labels to categorical, as you did in the CNN lab\n",
        "    Y=to_categorical(Y,num_classes=num_tags,dtype= 'float32')\n",
        "    return X, Y\n",
        "    \n",
        "    \n",
        "# Use your 'encode' function to create X and Y from train_data, word_to_index, tag_to_index\n",
        "X,Y=encode(train_data,word_to_index,tag_to_index)\n",
        "\n",
        "# Print the shape of X and Y\n",
        "print('Shape of X:',X.shape)\n",
        "print('Shape of Y:',Y.shape)\n",
        "    "
      ],
      "execution_count": 9,
      "outputs": [
        {
          "output_type": "stream",
          "text": [
            "Shape of X: (12543, 159)\n",
            "Shape of Y: (12543, 159, 18)\n"
          ],
          "name": "stdout"
        }
      ]
    },
    {
      "cell_type": "markdown",
      "metadata": {
        "id": "I7HaTlwwiuPV",
        "colab_type": "text"
      },
      "source": [
        "## Part 2: Construct the model"
      ]
    },
    {
      "cell_type": "markdown",
      "metadata": {
        "id": "V4SDez--iuPV",
        "colab_type": "text"
      },
      "source": [
        "To implement the network architecture, you need to find and instantiate the relevant building blocks from the Keras library. Note that Keras layers support a large number of optional parameters; use the default values unless you have a good reason not to. Two mandatory parameters that you will have to specify are the dimensionality of the embedding and the dimensionality of the output of the LSTM layer. The following values are reasonable starting points, but do try a number of different settings.\n",
        "\n",
        "* dimensionality of the embedding: 100\n",
        "* dimensionality of the output of the bidirectional LSTM layer: 100\n",
        "\n",
        "You will also have to choose an appropriate loss function. For training we recommend the Adam optimiser."
      ]
    },
    {
      "cell_type": "code",
      "metadata": {
        "id": "Q-asQ3deiuPW",
        "colab_type": "code",
        "colab": {
          "base_uri": "https://localhost:8080/",
          "height": 286
        },
        "outputId": "f0f7bb71-2f8c-41e8-b66d-1216deed3365"
      },
      "source": [
        "# Import necessary layers\n",
        "from keras import Sequential\n",
        "from keras.layers import Dense, Dropout, Embedding, LSTM, Bidirectional\n",
        "from keras.optimizers import Adam\n",
        "from keras.losses import categorical_crossentropy\n",
        "\n",
        "embedding_dim = 150\n",
        "hidden_dim = 150\n",
        "\n",
        "model = Sequential()\n",
        "model.add(Embedding(input_dim=num_words,output_dim=embedding_dim,mask_zero=True))\n",
        "model.add(Bidirectional(LSTM(units=hidden_dim,return_sequences=True)))\n",
        "model.add(Dropout(0.5))\n",
        "model.add(Dense(num_tags, activation='softmax'))\n",
        "# Compile model\n",
        "model.compile(loss='categorical_crossentropy', optimizer='Adam', metrics=['accuracy'])\n",
        "\n",
        "# Print a summary of the model\n",
        "model.summary()\n"
      ],
      "execution_count": 65,
      "outputs": [
        {
          "output_type": "stream",
          "text": [
            "Model: \"sequential_16\"\n",
            "_________________________________________________________________\n",
            "Layer (type)                 Output Shape              Param #   \n",
            "=================================================================\n",
            "embedding_16 (Embedding)     (None, None, 150)         2951100   \n",
            "_________________________________________________________________\n",
            "bidirectional_16 (Bidirectio (None, None, 90)          70560     \n",
            "_________________________________________________________________\n",
            "dropout_3 (Dropout)          (None, None, 90)          0         \n",
            "_________________________________________________________________\n",
            "dense_16 (Dense)             (None, None, 18)          1638      \n",
            "=================================================================\n",
            "Total params: 3,023,298\n",
            "Trainable params: 3,023,298\n",
            "Non-trainable params: 0\n",
            "_________________________________________________________________\n"
          ],
          "name": "stdout"
        }
      ]
    },
    {
      "cell_type": "markdown",
      "metadata": {
        "id": "TxVifPA-iuPa",
        "colab_type": "text"
      },
      "source": [
        "## Part 3: Train the network"
      ]
    },
    {
      "cell_type": "markdown",
      "metadata": {
        "id": "kpET2cISiuPb",
        "colab_type": "text"
      },
      "source": [
        "The next step is to train the network. Use the following parameters:\n",
        "\n",
        "* number of epochs: 10\n",
        "* batch size: 32\n",
        "\n",
        "Training will print the average running loss on the training data after each minibatch. In addition to that, we ask you to also print the loss and accuracy on the development data after each epoch. You can do so by providing the `validation_data` argument to the `fit` method.\n",
        "\n",
        "Note that the `fit` method returns a [`History`](https://keras.io/callbacks/#history) object that contains useful information about the training. We will use that information in the next step."
      ]
    },
    {
      "cell_type": "code",
      "metadata": {
        "id": "orME11k2iuPb",
        "colab_type": "code",
        "colab": {
          "base_uri": "https://localhost:8080/",
          "height": 423
        },
        "outputId": "283222e0-9c92-4fb8-e251-bff796603571"
      },
      "source": [
        "# Encode the development (validation data) using the 'encode' function you created before\n",
        "batch_size=128\n",
        "epochs=10\n",
        "\n",
        "#splitting the dev data into Xval and Yval to train the network\n",
        "Xval,Yval=encode(dev_data,word_to_index,tag_to_index)\n",
        "\n",
        "# Train the model and save the history, as you did in the DNN and CNN labs, provide validation data\n",
        "history=model.fit(X,Y,validation_data = (Xval, Yval),batch_size = batch_size, epochs = epochs)\n",
        "\n"
      ],
      "execution_count": 66,
      "outputs": [
        {
          "output_type": "stream",
          "text": [
            "/usr/local/lib/python3.6/dist-packages/tensorflow/python/framework/indexed_slices.py:434: UserWarning: Converting sparse IndexedSlices to a dense Tensor of unknown shape. This may consume a large amount of memory.\n",
            "  \"Converting sparse IndexedSlices to a dense Tensor of unknown shape. \"\n"
          ],
          "name": "stderr"
        },
        {
          "output_type": "stream",
          "text": [
            "Train on 12543 samples, validate on 2002 samples\n",
            "Epoch 1/10\n",
            "12543/12543 [==============================] - 68s 5ms/step - loss: 0.2351 - accuracy: 0.3326 - val_loss: 0.2316 - val_accuracy: 0.6320\n",
            "Epoch 2/10\n",
            "12543/12543 [==============================] - 68s 5ms/step - loss: 0.0852 - accuracy: 0.7782 - val_loss: 0.0852 - val_accuracy: 0.8590\n",
            "Epoch 3/10\n",
            "12543/12543 [==============================] - 68s 5ms/step - loss: 0.0364 - accuracy: 0.9103 - val_loss: 0.0623 - val_accuracy: 0.8899\n",
            "Epoch 4/10\n",
            "12543/12543 [==============================] - 67s 5ms/step - loss: 0.0232 - accuracy: 0.9419 - val_loss: 0.0571 - val_accuracy: 0.8974\n",
            "Epoch 5/10\n",
            "12543/12543 [==============================] - 68s 5ms/step - loss: 0.0178 - accuracy: 0.9534 - val_loss: 0.0554 - val_accuracy: 0.8994\n",
            "Epoch 6/10\n",
            "12543/12543 [==============================] - 67s 5ms/step - loss: 0.0148 - accuracy: 0.9598 - val_loss: 0.0544 - val_accuracy: 0.9036\n",
            "Epoch 7/10\n",
            "12543/12543 [==============================] - 68s 5ms/step - loss: 0.0126 - accuracy: 0.9654 - val_loss: 0.0549 - val_accuracy: 0.9025\n",
            "Epoch 8/10\n",
            "12543/12543 [==============================] - 68s 5ms/step - loss: 0.0112 - accuracy: 0.9690 - val_loss: 0.0553 - val_accuracy: 0.9039\n",
            "Epoch 9/10\n",
            "12543/12543 [==============================] - 67s 5ms/step - loss: 0.0100 - accuracy: 0.9726 - val_loss: 0.0561 - val_accuracy: 0.9044\n",
            "Epoch 10/10\n",
            "12543/12543 [==============================] - 68s 5ms/step - loss: 0.0090 - accuracy: 0.9747 - val_loss: 0.0559 - val_accuracy: 0.9048\n"
          ],
          "name": "stdout"
        }
      ]
    },
    {
      "cell_type": "markdown",
      "metadata": {
        "id": "cQME9ENYiuPe",
        "colab_type": "text"
      },
      "source": [
        "## Part 4: Identify a good model"
      ]
    },
    {
      "cell_type": "markdown",
      "metadata": {
        "id": "NWgXxAkmiuPe",
        "colab_type": "text"
      },
      "source": [
        "The following code will plot the loss on the training data and the loss on the validation data after each epoch:"
      ]
    },
    {
      "cell_type": "code",
      "metadata": {
        "id": "WXEDvJOMiuPe",
        "colab_type": "code",
        "colab": {}
      },
      "source": [
        "# Lets define a help function for plotting the training results\n",
        "import matplotlib.pyplot as plt\n",
        "\n",
        "def plot_results(history):\n",
        "    \n",
        "    val_loss = history.history['val_loss']\n",
        "    acc = history.history['accuracy']\n",
        "    loss = history.history['loss']\n",
        "    val_acc = history.history['val_accuracy']\n",
        "    \n",
        "    plt.figure(figsize=(10,4))\n",
        "    plt.xlabel('Epochs')\n",
        "    plt.ylabel('Loss')\n",
        "    plt.plot(loss)\n",
        "    plt.plot(val_loss)\n",
        "    plt.legend(['Training','Validation'])\n",
        "\n",
        "    plt.figure(figsize=(10,4))\n",
        "    plt.xlabel('Epochs')\n",
        "    plt.ylabel('Accuracy')\n",
        "    plt.plot(acc)\n",
        "    plt.plot(val_acc)\n",
        "    plt.legend(['Training','Validation'])\n",
        "\n",
        "    plt.show()"
      ],
      "execution_count": 0,
      "outputs": []
    },
    {
      "cell_type": "code",
      "metadata": {
        "id": "qaB5lZ4hiuPg",
        "colab_type": "code",
        "colab": {
          "base_uri": "https://localhost:8080/",
          "height": 543
        },
        "outputId": "d9f15338-03f7-4200-82b1-df78dfafa2da"
      },
      "source": [
        "plot_results(history)"
      ],
      "execution_count": 67,
      "outputs": [
        {
          "output_type": "display_data",
          "data": {
            "image/png": "[encoded data removed]",
            "text/plain": [
              "<Figure size 720x288 with 1 Axes>"
            ]
          },
          "metadata": {
            "tags": [],
            "needs_background": "light"
          }
        },
        {
          "output_type": "display_data",
          "data": {
            "image/png": "[encoded data removed]",
            "text/plain": [
              "<Figure size 720x288 with 1 Axes>"
            ]
          },
          "metadata": {
            "tags": [],
            "needs_background": "light"
          }
        }
      ]
    },
    {
      "cell_type": "markdown",
      "metadata": {
        "id": "4B8xpF2WiuPj",
        "colab_type": "text"
      },
      "source": [
        "Look at the plot and determine the epoch after which the model starts to overfit. Then, re-train your model using that many epochs and compute the accuracy of the tagger on the test data."
      ]
    },
    {
      "cell_type": "code",
      "metadata": {
        "id": "VlhStdCPiuPj",
        "colab_type": "code",
        "colab": {
          "base_uri": "https://localhost:8080/",
          "height": 67
        },
        "outputId": "079bd547-0daa-40db-f41b-157a2b94b577"
      },
      "source": [
        "\n",
        "# Encode the test_data using the 'encode' function you created before\n",
        "Xtest,Ytest = encode(test_data, word_to_index, tag_to_index)\n",
        "\n",
        "\n",
        "# Evaluate the model on test data, as you did in the DNN and CNN lab\n",
        "score = model.evaluate(Xtest, Ytest)\n",
        "print('Test loss: %.4f' % score[0])\n",
        "print('Test accuracy: %.4f' % score[1])\n",
        "\n"
      ],
      "execution_count": 68,
      "outputs": [
        {
          "output_type": "stream",
          "text": [
            "2077/2077 [==============================] - 3s 2ms/step\n",
            "Test loss: 0.0477\n",
            "Test accuracy: 0.9083\n"
          ],
          "name": "stdout"
        }
      ]
    },
    {
      "cell_type": "markdown",
      "metadata": {
        "id": "zNUgXyEBiuPl",
        "colab_type": "text"
      },
      "source": [
        "## Submission"
      ]
    },
    {
      "cell_type": "markdown",
      "metadata": {
        "id": "rUgHcUNwiuPl",
        "colab_type": "text"
      },
      "source": [
        "Your notebook should include all your code, and should be runnable without further modification. It should also include answers to the following questions:\n",
        "\n",
        "1)How many epochs did you train the final model for?\n",
        "\n",
        "2)What accuracy did you achieve on the test data?\n",
        "\n",
        "3)What dimensionality of the embedding did you use for your best results?\n",
        "\n",
        "4)What dimensionality of the output of the bidirectional LSTM layer did you use for your best results?\n",
        "\n",
        "5)Instead of manually identifying a good model, and redoing the training to that number of epochs, how can you automatically stop the training when the validation performance does not improve anymore? Hint: see Lecture 2\n",
        "\n",
        "6)What did you find particularly surprising or hard?\n",
        "\n",
        "7)How do you calculate the number of parameters in the embedding layer? Hint: the calculation includes the vocabulary size and the embedding dimension\n",
        "\n",
        "8)How do you calculate the number of parameters in the bidirectional LSTM layer? Hint: A LSTM layer has 4 parts; cell, input gate, output gate, forget gate, each part contains two weight matrices and a bias vector. A bidirectional LSTM contains two LSTMs.\n",
        "\n",
        "https://en.wikipedia.org/wiki/Long_short-term_memory"
      ]
    },
    {
      "cell_type": "markdown",
      "metadata": {
        "id": "M-z6z7CuiuPm",
        "colab_type": "text"
      },
      "source": [
        "5)In Keras, we have a functionality called 'early stopping' in which we can specify the parameter to be monitored using the argument 'monitor' along with the specification whether we want to monitor for the minimizing or maximizing the parameter with the argument 'mode'.This can be called while building the model.\n",
        "\n",
        "6)Suprizing thing is that we are getting a very high accuracy higher than the train acuuracy which vise-versa in the cases of DNN  and CNN. Also, in DNN and CNN the test and traning accuracy had huge difference.\n",
        "\n",
        "7)number_of_parameters=(vocabulary_size+1)*embedding_dim."
      ]
    },
    {
      "cell_type": "markdown",
      "metadata": {
        "id": "Bf-_WAeiiuPm",
        "colab_type": "text"
      },
      "source": [
        "## Ethics in deep learning\n",
        "\n",
        "Now that you have watched the 5 lectures, and completed the 3 laborations in this course, what do you think is the most important ethical question related to deep learning? Motivate your answer.\n",
        "\n"
      ]
    },
    {
      "cell_type": "markdown",
      "metadata": {
        "id": "dOEGeLz9iuPm",
        "colab_type": "text"
      },
      "source": [
        "Ethics in deep learning is very important for the following cases.\n",
        "\n",
        "1)When a life can be affected by any decision taken by the AI.\n",
        "\n",
        "In case of a self driving car, we have an object in the path of the car and 2 alternanate possible ways. Say one of the ways has a pregnant lady and other has an elderly person.The AI can not determine which way to take. If it chooses the path with the elderly person, then two lives will be saved over one life if the opposite desion was taken. But one can not value a life, so does the AI.[1]\n",
        "\n",
        "2)Another ethical question is that what can one do to avoid algortithmic biases.\n",
        "Turnitin, a plagarism checking AI was tranined to find if a text was copied or not.It would target a non-native English speakers over the English speaking ones as they could paraphase the sentences and manage the copying without getting a plag alarm.This is an example of a contextual bias.[2]\n",
        "\n",
        "Solutions: 1)Context data collection.\n",
        "           2)Collecting data from variety of sources and re-traning the model.\n",
        "\n",
        "1]:https://www.siliconrepublic.com/machines/ethics-deep-learning-4irc\n",
        "2]:https://hub.packtpub.com/machine-learning-ethics-what-you-need-to-know-and-what-you-can-do/\n",
        "\n"
      ]
    }
  ]
}