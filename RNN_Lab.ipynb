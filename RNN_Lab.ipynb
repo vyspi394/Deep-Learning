{
  "nbformat": 4,
  "nbformat_minor": 0,
  "metadata": {
    "kernelspec": {
      "display_name": "Python 3",
      "language": "python",
      "name": "python3"
    },
    "language_info": {
      "codemirror_mode": {
        "name": "ipython",
        "version": 3
      },
      "file_extension": ".py",
      "mimetype": "text/x-python",
      "name": "python",
      "nbconvert_exporter": "python",
      "pygments_lexer": "ipython3",
      "version": "3.7.7"
    },
    "colab": {
      "name": "RNN_Lab.ipynb",
      "provenance": [],
      "toc_visible": true,
      "include_colab_link": true
    },
    "accelerator": "TPU"
  },
  "cells": [
    {
      "cell_type": "markdown",
      "metadata": {
        "id": "view-in-github",
        "colab_type": "text"
      },
      "source": [
        "<a href=\"https://colab.research.google.com/github/vyspi394/Deep-Learning/blob/master/RNN_Lab.ipynb\" target=\"_parent\"><img src=\"https://colab.research.google.com/assets/colab-badge.svg\" alt=\"Open In Colab\"/></a>"
      ]
    },
    {
      "cell_type": "code",
      "metadata": {
        "id": "dFzlhawN_C6f",
        "colab_type": "code",
        "outputId": "2d3bbf5b-7082-43c5-c40b-301fed64d517",
        "colab": {
          "base_uri": "https://localhost:8080/",
          "height": 121
        }
      },
      "source": [
        "from google.colab import drive\n",
        "drive.mount('/content/drive')"
      ],
      "execution_count": 3,
      "outputs": [
        {
          "output_type": "stream",
          "text": [
            "Go to this URL in a browser: https://accounts.google.com/o/oauth2/auth?client_id=947318989803-6bn6qk8qdgf4n4g3pfee6491hc0brc4i.apps.googleusercontent.com&redirect_uri=urn%3aietf%3awg%3aoauth%3a2.0%3aoob&response_type=code&scope=email%20https%3a%2f%2fwww.googleapis.com%2fauth%2fdocs.test%20https%3a%2f%2fwww.googleapis.com%2fauth%2fdrive%20https%3a%2f%2fwww.googleapis.com%2fauth%2fdrive.photos.readonly%20https%3a%2f%2fwww.googleapis.com%2fauth%2fpeopleapi.readonly\n",
            "\n",
            "Enter your authorization code:\n",
            "··········\n",
            "Mounted at /content/drive\n"
          ],
          "name": "stdout"
        }
      ]
    },
    {
      "cell_type": "markdown",
      "metadata": {
        "id": "eYu62JvP6naq",
        "colab_type": "text"
      },
      "source": [
        "# Part-of-Speech Tagging with Recurrent Neural Networks"
      ]
    },
    {
      "cell_type": "markdown",
      "metadata": {
        "id": "KSvQ5lvq6nat",
        "colab_type": "text"
      },
      "source": [
        "Your task in this assignment is to implement a simple part-of-speech tagger based on recurrent neural networks."
      ]
    },
    {
      "cell_type": "markdown",
      "metadata": {
        "id": "taGmNTrq6naw",
        "colab_type": "text"
      },
      "source": [
        "## Problem specification"
      ]
    },
    {
      "cell_type": "markdown",
      "metadata": {
        "id": "NlpcVjLG6nay",
        "colab_type": "text"
      },
      "source": [
        "Your task in this assignment is\n",
        "\n",
        "1. to build a part-of-speech tagger based on a recurrent neural network architecture\n",
        "2. to train this tagger on the provided training data and identify a good model\n",
        "2. to evaluate the performance of this model on the provided test data\n",
        "\n",
        "To identify a good model, you can use the provided development (validation) data."
      ]
    },
    {
      "cell_type": "markdown",
      "metadata": {
        "id": "FGNBr1se6na1",
        "colab_type": "text"
      },
      "source": [
        "## Part-of-speech tagging"
      ]
    },
    {
      "cell_type": "markdown",
      "metadata": {
        "id": "I4fi4RhI6na3",
        "colab_type": "text"
      },
      "source": [
        "Part-of-speech (POS) tagging is the task of labelling words (tokens) with [parts of speech](https://en.wikipedia.org/wiki/Part_of_speech). To give an example, consider the  sentence *Parker hates parsnips*. In this sentence, the word *Parker* should be labelled as a proper noun (a noun that is the name of a person), *hates* should be labelled as a verb, and *parsnips* should be labelled as a (common) noun. Part-of-speech tagging is an essential ingredient of many state-of-the-art natural language understanding systems.\n",
        "\n",
        "Part-of-speech tagging can be cast as a supervised machine learning problem where the gold-standard data consists of sentences whose words have been manually annotated with parts of speech. For the present assignment you will be using a corpus built over the source material of the [English Web Treebank](https://catalog.ldc.upenn.edu/ldc2012t13), consisting of approximately 16,000&nbsp;sentences with 254,000&nbsp;tokens. The corpus has been released by the [Universal Dependencies Project](http://universaldependencies.org).\n",
        "\n",
        "To make it easier to compare systems, the gold-standard data has been split into three parts: training, development (validation), and test. The following cell provides a function that can be used to load the data."
      ]
    },
    {
      "cell_type": "code",
      "metadata": {
        "id": "ObaXxaCd6na5",
        "colab_type": "code",
        "colab": {}
      },
      "source": [
        "def read_data(path):\n",
        "    with open(path, encoding='utf-8') as fp:\n",
        "        result = []\n",
        "        for line in fp:\n",
        "            line = line.rstrip()\n",
        "            if len(line) == 0:\n",
        "                yield result\n",
        "                result = []\n",
        "            elif not line.startswith('#'):\n",
        "                columns = line.split()\n",
        "                if columns[0].isdigit():\n",
        "                    result.append((columns[1], columns[3]))"
      ],
      "execution_count": 0,
      "outputs": []
    },
    {
      "cell_type": "markdown",
      "metadata": {
        "id": "dXmRtGlV6nbF",
        "colab_type": "text"
      },
      "source": [
        "The next cell loads the data:"
      ]
    },
    {
      "cell_type": "code",
      "metadata": {
        "id": "xKGEuy8_6nbJ",
        "colab_type": "code",
        "outputId": "c689a428-867d-47dd-add4-25b9841fcbf8",
        "colab": {
          "base_uri": "https://localhost:8080/",
          "height": 67
        }
      },
      "source": [
        "train_data = list(read_data('/content/drive/My Drive/Colab Notebooks/RNN/en_ewt-ud-train.conllu'))\n",
        "print('Number of sentences in the training data: {}'.format(len(train_data)))\n",
        "\n",
        "dev_data = list(read_data('/content/drive/My Drive/Colab Notebooks/RNN/en_ewt-ud-dev.conllu'))\n",
        "print('Number of sentences in the development data: {}'.format(len(dev_data)))\n",
        "\n",
        "test_data = list(read_data('/content/drive/My Drive/Colab Notebooks/RNN/en_ewt-ud-test.conllu'))\n",
        "print('Number of sentences in the test data: {}'.format(len(test_data)))"
      ],
      "execution_count": 16,
      "outputs": [
        {
          "output_type": "stream",
          "text": [
            "Number of sentences in the training data: 12543\n",
            "Number of sentences in the development data: 2002\n",
            "Number of sentences in the test data: 2077\n"
          ],
          "name": "stdout"
        }
      ]
    },
    {
      "cell_type": "markdown",
      "metadata": {
        "id": "CuHEF6DD6nbU",
        "colab_type": "text"
      },
      "source": [
        "From a Python perspective, each of the data sets is a list of what we shall refer to as *tagged sentences*. A tagged sentence, in turn, is a list of pairs $(w,t)$, where $w$ is a word token and $t$ is the word&rsquo;s POS tag. Here is an example from the training data to show you how this looks like:"
      ]
    },
    {
      "cell_type": "code",
      "metadata": {
        "id": "KTgvbXWW6nbX",
        "colab_type": "code",
        "outputId": "e70c8950-f758-4770-91cf-3f0a931ba09a",
        "colab": {
          "base_uri": "https://localhost:8080/",
          "height": 235
        }
      },
      "source": [
        "train_data[42]"
      ],
      "execution_count": 17,
      "outputs": [
        {
          "output_type": "execute_result",
          "data": {
            "text/plain": [
              "[('There', 'PRON'),\n",
              " ('has', 'AUX'),\n",
              " ('been', 'VERB'),\n",
              " ('talk', 'NOUN'),\n",
              " ('that', 'SCONJ'),\n",
              " ('the', 'DET'),\n",
              " ('night', 'NOUN'),\n",
              " ('curfew', 'NOUN'),\n",
              " ('might', 'AUX'),\n",
              " ('be', 'AUX'),\n",
              " ('implemented', 'VERB'),\n",
              " ('again', 'ADV'),\n",
              " ('.', 'PUNCT')]"
            ]
          },
          "metadata": {
            "tags": []
          },
          "execution_count": 17
        }
      ]
    },
    {
      "cell_type": "markdown",
      "metadata": {
        "id": "GWzzIdYD6nbe",
        "colab_type": "text"
      },
      "source": [
        "You will see part-of-speech tags such as `VERB` for verb, `NOUN` for noun, and `ADV` for adverb. If you are interested in learning more about the tag set used in the gold-standard data, you can have a look at the documentation of the [Universal POS tags](http://universaldependencies.org/u/pos/all.html). However, you do not need to understand the meaning of the POS tags to solve this assignment; you can simply treat them as labels drawn from a finite set of alternatives."
      ]
    },
    {
      "cell_type": "markdown",
      "metadata": {
        "id": "6DXoaaL_6nbf",
        "colab_type": "text"
      },
      "source": [
        "## Network architecture"
      ]
    },
    {
      "cell_type": "markdown",
      "metadata": {
        "id": "7d33lm8p6nbg",
        "colab_type": "text"
      },
      "source": [
        "The proposed network architecture for your tagger is a sequential model with three layers, illustrated below: an embedding, a bidirectional LSTM, and a softmax layer. The embedding turns word indexes (integers representing words) into fixed-size dense vectors which are then fed into the bidirectional LSTM. The output of the LSTM at each position of the sentence is passed to a softmax layer which predicts the POS tag for the word at that position.\n",
        "\n",
        "![architecture.png](attachment:architecture.png)\n",
        "\n",
        "To implement the network architecture, you will use [Keras](https://keras.io/). Keras comes with an extensive online documentation, and reading the relevant parts of this documentation will be essential when working on this assignment. We suggest to start with the tutorial [Getting started with the Keras Sequential model](https://keras.io/getting-started/sequential-model-guide/). After that, you should have a look at some of the examples mentioned in that tutorial, and in particular the [Bidirectional LSTM](https://keras.io/examples/imdb_bidirectional_lstm/) example."
      ]
    },
    {
      "cell_type": "markdown",
      "metadata": {
        "id": "fgkNl_BF6nbh",
        "colab_type": "text"
      },
      "source": [
        "## Evaluation"
      ]
    },
    {
      "cell_type": "markdown",
      "metadata": {
        "id": "TDt3S4bq6nbi",
        "colab_type": "text"
      },
      "source": [
        "The most widely-used evaluation measure for part-of-speech tagging is per-word accuracy, which is the percentage of words to which the tagger assigns the correct tag (according to the gold standard). This is one of the default metrics in Keras.\n",
        "\n",
        "One problem that you will encounter during evaluation is that the evaluation data contains words that you did not see (and did not add to your index) during training. The simplest solution to this problem is to introduce a special &lsquo;word&rsquo; `<unk>` and replace each unknown word with this pseudoword."
      ]
    },
    {
      "cell_type": "markdown",
      "metadata": {
        "id": "meB7SvBw6nbj",
        "colab_type": "text"
      },
      "source": [
        "## Part 1: Pre-process the data"
      ]
    },
    {
      "cell_type": "markdown",
      "metadata": {
        "id": "C5hJQEeF6nbk",
        "colab_type": "text"
      },
      "source": [
        "Before you can start to implement the network architecture as such, you will have to bring the tagged sentences from the gold-standard data into a form that can be used with the network. One important step in this is to map the words and tags (strings) to integers. Here is code that illustrates the idea:"
      ]
    },
    {
      "cell_type": "code",
      "metadata": {
        "id": "eW8_p2-i6nbl",
        "colab_type": "code",
        "outputId": "7fe8c837-1124-4c63-d6ea-0abd67e080c9",
        "colab": {
          "base_uri": "https://localhost:8080/",
          "height": 50
        }
      },
      "source": [
        "word_to_index = {}\n",
        "for tagged_sentence in train_data:\n",
        "    for word, tag in tagged_sentence:\n",
        "        if word not in word_to_index:\n",
        "            word_to_index[word] = len(word_to_index)\n",
        "\n",
        "print('Number of unique words in the training data: {}'.format(len(word_to_index)))\n",
        "print('Index of the word \"hates\": {}'.format(word_to_index['hates']))"
      ],
      "execution_count": 18,
      "outputs": [
        {
          "output_type": "stream",
          "text": [
            "Number of unique words in the training data: 19672\n",
            "Index of the word \"hates\": 4579\n"
          ],
          "name": "stdout"
        }
      ]
    },
    {
      "cell_type": "markdown",
      "metadata": {
        "id": "3k0is8I4Tkfe",
        "colab_type": "text"
      },
      "source": [
        ""
      ]
    },
    {
      "cell_type": "markdown",
      "metadata": {
        "id": "YtIq1iwg6nbr",
        "colab_type": "text"
      },
      "source": [
        "Once you have indexes for the words and the tags, you can construct the input and the gold-standard output tensor required to train the network.\n",
        "\n",
        "### Constructing the input tensor\n",
        "\n",
        "The input tensor should be of shape $(N, n)$ where $N$ is the total number of sentences in the training data and $n$ is the length of the longest sentence. Note that Keras requires all sequences in an input tensor to have the same length, which means that you will have to pad all sequences to that length. You can use the helper function [`pad_sequences`](https://www.tensorflow.org/api_docs/python/tf/keras/preprocessing/sequence/pad_sequences) for this, which by default will front-pad sequences with the value&nbsp;0. It is essential then that you do not use this special padding value as the index of actual words.\n",
        "\n",
        "### Constructing the target output tensor\n",
        "\n",
        "The target output tensor should be of shape $(N, n, T)$ where $T$ is the number of unique tags in the training data, plus one to cater for the special padding value. The additional dimension corresponds to the fact that the softmax layer of the network will output one $T$-dimensional vector for each position of an input sentence. To construct this vector, you can use the helper function [`to_categorical`](https://www.tensorflow.org/api_docs/python/tf/keras/utils/to_categorical)."
      ]
    },
    {
      "cell_type": "code",
      "metadata": {
        "id": "Fmjd5WQC6nbr",
        "colab_type": "code",
        "outputId": "1721d10a-8954-4f11-dff7-aa5e33409dd6",
        "colab": {
          "base_uri": "https://localhost:8080/",
          "height": 50
        }
      },
      "source": [
        "# Define a help function to build index from a list of words or tags, each word / tag will have a unique number\n",
        "def build_index(strings, init=[]):\n",
        "    string_to_index = {s: i for i, s in enumerate(init)}\n",
        "    # Loop over strings in 'strings'\n",
        "    for string in strings:\n",
        "      # Check if string exists in variable 'string_to_index', \n",
        "      # if string does not exist, add a new element to 'string_to_index': the current length of 'string_to_index'\n",
        "      if string not in string_to_index:\n",
        "        string_to_index[string]=len(string_to_index)  \n",
        "    return string_to_index\n",
        "\n",
        "# Convert all words and tags in train_data to lists, start with empty lists and use '.append()' \n",
        "# to add one word / tag at a time, similar to the cell below 'pre-process the data'\n",
        "words, tags = [], []\n",
        "for tagged_sentence in train_data:\n",
        "  for word,tag in tagged_sentence:\n",
        "    words.append(word)\n",
        "    tags.append(tag)\n",
        "\n",
        "# Call the help function you made, to build an index for words (word_to_index), and one index for tags (tag_to_index)\n",
        "word_to_index=build_index(words,['<pad>','<unk>'])\n",
        "tag_to_index=build_index(tags,['<pad>','<unk>'])\n",
        "\n",
        "# Check number of words and tags\n",
        "num_words = len(word_to_index)\n",
        "num_tags = len(tag_to_index)\n",
        "\n",
        "print(f'Number of unique words in the training data: {num_words}')\n",
        "print(f'Number of unique tags in the training_data: {num_tags}')"
      ],
      "execution_count": 26,
      "outputs": [
        {
          "output_type": "stream",
          "text": [
            "Number of unique words in the training data: 19674\n",
            "Number of unique tags in the training_data: 19\n"
          ],
          "name": "stdout"
        }
      ]
    },
    {
      "cell_type": "code",
      "metadata": {
        "id": "4Z6s76Ys6nbv",
        "colab_type": "code",
        "colab": {
          "base_uri": "https://localhost:8080/",
          "height": 638
        },
        "outputId": "fa333dd0-5723-47d2-9bfb-f823d9eead99"
      },
      "source": [
        "from tensorflow.keras.preprocessing.sequence import pad_sequences\n",
        "from tensorflow.keras.utils import to_categorical\n",
        "\n",
        "# Make a function that converts the tagged sentences, word indices and tag indices to \n",
        "# X and Y, that can be used when training the RNN\n",
        "def encode(tagged_sentences, word_to_index, tag_to_index):\n",
        "    \n",
        "    # Start with empty lists that will contain all training examples and corresponding output\n",
        "    X, Y = [], []\n",
        "    # Loop over tagged sentences\n",
        "    for current_tagged_sentence in tagged_sentences:\n",
        "        # Make empty lists for current sentence\n",
        "        Xcurrent, Ycurrent = [], []\n",
        "        # Loop over words and tags in current sentence\n",
        "        for word,tag in current_tagged_sentence:\n",
        "             # Append the index for the current word to Xcurrent,\n",
        "             # if the word does not exist in 'word_to_index', add the index for '<unk>' instead\n",
        "             if word not in word_to_index:\n",
        "               Xcurrent.append(word_to_index['<unk>'])\n",
        "             else:\n",
        "               Xcurrent.append(word_to_index[word])\n",
        "             # Append the index for the current tag to Ycurrent\n",
        "             if tag not in tag_to_index:\n",
        "               Ycurrent.append(tag_to_index['<unk>'])\n",
        "             else:\n",
        "               Ycurrent.append(tag_to_index[tag])\n",
        "        # Append X with Xcurrent, and Y with Ycurrent\n",
        "        X.append(Xcurrent)\n",
        "        Y.append(Ycurrent)\n",
        "    # Pad the sequences, so that all have the same length\n",
        "    X=pad_sequences(sequences=X,padding='pre',maxlen=35)\n",
        "    Y=pad_sequences(sequences=Y,padding='pre',maxlen=35)\n",
        "    # Convert labels to categorical, as you did in the CNN lab\n",
        "    Y=to_categorical(Y)\n",
        "    return X, Y\n",
        "    \n",
        "    \n",
        "    \n",
        "# Use your 'encode' function to create X and Y from train_data, word_to_index, tag_to_index\n",
        "X,Y=encode(train_data,word_to_index,tag_to_index)\n",
        "\n",
        "# Print the shape of X and Y\n",
        "print('Shape of X:',X.shape)\n",
        "print('Shape of Y:',Y.shape)"
      ],
      "execution_count": 31,
      "outputs": [
        {
          "output_type": "stream",
          "text": [
            "Shape of X: (12543, 35)\n",
            "Shape of Y: (12543, 35, 19)\n",
            "[[[0. 0. 0. 1. 0. 0. 0. 0. 0. 0. 0. 0. 0. 0. 0. 0. 0. 0. 0.]\n",
            "  [0. 0. 0. 0. 0. 0. 0. 1. 0. 0. 0. 0. 0. 0. 0. 0. 0. 0. 0.]\n",
            "  [0. 0. 0. 0. 0. 1. 0. 0. 0. 0. 0. 0. 0. 0. 0. 0. 0. 0. 0.]\n",
            "  [0. 0. 0. 0. 0. 0. 0. 0. 1. 0. 0. 0. 0. 0. 0. 0. 0. 0. 0.]\n",
            "  [0. 0. 0. 0. 0. 0. 0. 1. 0. 0. 0. 0. 0. 0. 0. 0. 0. 0. 0.]\n",
            "  [0. 0. 0. 0. 1. 0. 0. 0. 0. 0. 0. 0. 0. 0. 0. 0. 0. 0. 0.]\n",
            "  [0. 0. 0. 0. 0. 1. 0. 0. 0. 0. 0. 0. 0. 0. 0. 0. 0. 0. 0.]\n",
            "  [0. 0. 0. 0. 0. 0. 0. 0. 0. 1. 0. 0. 0. 0. 0. 0. 0. 0. 0.]\n",
            "  [0. 0. 0. 0. 0. 0. 0. 0. 0. 1. 0. 0. 0. 0. 0. 0. 0. 0. 0.]\n",
            "  [0. 0. 0. 0. 0. 0. 1. 0. 0. 0. 0. 0. 0. 0. 0. 0. 0. 0. 0.]\n",
            "  [0. 0. 0. 0. 0. 0. 0. 0. 0. 0. 1. 0. 0. 0. 0. 0. 0. 0. 0.]\n",
            "  [0. 0. 0. 0. 0. 1. 0. 0. 0. 0. 0. 0. 0. 0. 0. 0. 0. 0. 0.]\n",
            "  [0. 0. 0. 0. 0. 0. 0. 0. 1. 0. 0. 0. 0. 0. 0. 0. 0. 0. 0.]\n",
            "  [0. 0. 0. 0. 0. 1. 0. 0. 0. 0. 0. 0. 0. 0. 0. 0. 0. 0. 0.]\n",
            "  [0. 0. 0. 0. 0. 0. 0. 0. 0. 0. 0. 1. 0. 0. 0. 0. 0. 0. 0.]\n",
            "  [0. 0. 0. 0. 0. 0. 1. 0. 0. 0. 0. 0. 0. 0. 0. 0. 0. 0. 0.]\n",
            "  [0. 0. 0. 1. 0. 0. 0. 0. 0. 0. 0. 0. 0. 0. 0. 0. 0. 0. 0.]\n",
            "  [0. 0. 0. 1. 0. 0. 0. 0. 0. 0. 0. 0. 0. 0. 0. 0. 0. 0. 0.]\n",
            "  [1. 0. 0. 0. 0. 0. 0. 0. 0. 0. 0. 0. 0. 0. 0. 0. 0. 0. 0.]\n",
            "  [1. 0. 0. 0. 0. 0. 0. 0. 0. 0. 0. 0. 0. 0. 0. 0. 0. 0. 0.]\n",
            "  [1. 0. 0. 0. 0. 0. 0. 0. 0. 0. 0. 0. 0. 0. 0. 0. 0. 0. 0.]\n",
            "  [1. 0. 0. 0. 0. 0. 0. 0. 0. 0. 0. 0. 0. 0. 0. 0. 0. 0. 0.]\n",
            "  [1. 0. 0. 0. 0. 0. 0. 0. 0. 0. 0. 0. 0. 0. 0. 0. 0. 0. 0.]\n",
            "  [1. 0. 0. 0. 0. 0. 0. 0. 0. 0. 0. 0. 0. 0. 0. 0. 0. 0. 0.]\n",
            "  [1. 0. 0. 0. 0. 0. 0. 0. 0. 0. 0. 0. 0. 0. 0. 0. 0. 0. 0.]\n",
            "  [1. 0. 0. 0. 0. 0. 0. 0. 0. 0. 0. 0. 0. 0. 0. 0. 0. 0. 0.]\n",
            "  [1. 0. 0. 0. 0. 0. 0. 0. 0. 0. 0. 0. 0. 0. 0. 0. 0. 0. 0.]\n",
            "  [1. 0. 0. 0. 0. 0. 0. 0. 0. 0. 0. 0. 0. 0. 0. 0. 0. 0. 0.]\n",
            "  [1. 0. 0. 0. 0. 0. 0. 0. 0. 0. 0. 0. 0. 0. 0. 0. 0. 0. 0.]\n",
            "  [1. 0. 0. 0. 0. 0. 0. 0. 0. 0. 0. 0. 0. 0. 0. 0. 0. 0. 0.]\n",
            "  [1. 0. 0. 0. 0. 0. 0. 0. 0. 0. 0. 0. 0. 0. 0. 0. 0. 0. 0.]\n",
            "  [1. 0. 0. 0. 0. 0. 0. 0. 0. 0. 0. 0. 0. 0. 0. 0. 0. 0. 0.]\n",
            "  [1. 0. 0. 0. 0. 0. 0. 0. 0. 0. 0. 0. 0. 0. 0. 0. 0. 0. 0.]\n",
            "  [1. 0. 0. 0. 0. 0. 0. 0. 0. 0. 0. 0. 0. 0. 0. 0. 0. 0. 0.]\n",
            "  [1. 0. 0. 0. 0. 0. 0. 0. 0. 0. 0. 0. 0. 0. 0. 0. 0. 0. 0.]]]\n"
          ],
          "name": "stdout"
        }
      ]
    },
    {
      "cell_type": "markdown",
      "metadata": {
        "id": "U-lK_qCQ6nby",
        "colab_type": "text"
      },
      "source": [
        "## Part 2: Construct the model"
      ]
    },
    {
      "cell_type": "markdown",
      "metadata": {
        "id": "aDWwGIXj6nbz",
        "colab_type": "text"
      },
      "source": [
        "To implement the network architecture, you need to find and instantiate the relevant building blocks from the Keras library. Note that Keras layers support a large number of optional parameters; use the default values unless you have a good reason not to. Two mandatory parameters that you will have to specify are the dimensionality of the embedding and the dimensionality of the output of the LSTM layer. The following values are reasonable starting points, but do try a number of different settings.\n",
        "\n",
        "* dimensionality of the embedding: 100\n",
        "* dimensionality of the output of the bidirectional LSTM layer: 100\n",
        "\n",
        "You will also have to choose an appropriate loss function. For training we recommend the Adam optimiser."
      ]
    },
    {
      "cell_type": "code",
      "metadata": {
        "id": "i8PEQSmC6nbz",
        "colab_type": "code",
        "colab": {}
      },
      "source": [
        "from tensorflow.keras import Sequential\n",
        "# Import necessary layers\n",
        "from tensorflow.keras.layers import ?\n",
        "\n",
        "embedding_dim = 100\n",
        "hidden_dim = 100\n",
        "\n",
        "# Create model, similar to how it was done in the DNN and CNN labs\n",
        "model = Sequential()\n",
        "model.add(Embedding(embedding_dim, 128, input_length=35))\n",
        "model.add(Bidirectional(LSTM(hidden_dim)))\n",
        "model.add(Dropout(0.5))\n",
        "model.add(Dense(1, activation='sigmoid'))\n",
        "# The model should have an embedding layer, a bidirectional LSTM, and a dense softmax layer \n",
        "# (see the network architecture image)\n",
        "\n",
        "\n",
        "\n",
        "# Compile model\n",
        "\n",
        "\n",
        "# Print a summary of the model\n"
      ],
      "execution_count": 0,
      "outputs": []
    },
    {
      "cell_type": "markdown",
      "metadata": {
        "id": "V0QfWpg86nb2",
        "colab_type": "text"
      },
      "source": [
        "## Part 3: Train the network"
      ]
    },
    {
      "cell_type": "markdown",
      "metadata": {
        "id": "szhZBmZi6nb3",
        "colab_type": "text"
      },
      "source": [
        "The next step is to train the network. Use the following parameters:\n",
        "\n",
        "* number of epochs: 10\n",
        "* batch size: 32\n",
        "\n",
        "Training will print the average running loss on the training data after each minibatch. In addition to that, we ask you to also print the loss and accuracy on the development data after each epoch. You can do so by providing the `validation_data` argument to the `fit` method.\n",
        "\n",
        "Note that the `fit` method returns a [`History`](https://keras.io/callbacks/#history) object that contains useful information about the training. We will use that information in the next step."
      ]
    },
    {
      "cell_type": "code",
      "metadata": {
        "id": "8lMvSzop6nb3",
        "colab_type": "code",
        "colab": {}
      },
      "source": [
        "# Encode the development (validation data) using the 'encode' function you created before\n",
        "\n",
        "\n",
        "# Train the model and save the history, as you did in the DNN and CNN labs, provide validation data\n",
        "\n"
      ],
      "execution_count": 0,
      "outputs": []
    },
    {
      "cell_type": "markdown",
      "metadata": {
        "id": "x7nxG0fO6nb7",
        "colab_type": "text"
      },
      "source": [
        "## Part 4: Identify a good model"
      ]
    },
    {
      "cell_type": "markdown",
      "metadata": {
        "id": "E8wRg-ze6nb8",
        "colab_type": "text"
      },
      "source": [
        "The following code will plot the loss on the training data and the loss on the validation data after each epoch:"
      ]
    },
    {
      "cell_type": "code",
      "metadata": {
        "id": "Bn1h66FR6nb8",
        "colab_type": "code",
        "colab": {}
      },
      "source": [
        "# Lets define a help function for plotting the training results\n",
        "import matplotlib.pyplot as plt\n",
        "\n",
        "def plot_results(history):\n",
        "    \n",
        "    val_loss = history.history['val_loss']\n",
        "    acc = history.history['accuracy']\n",
        "    loss = history.history['loss']\n",
        "    val_acc = history.history['val_accuracy']\n",
        "    \n",
        "    plt.figure(figsize=(10,4))\n",
        "    plt.xlabel('Epochs')\n",
        "    plt.ylabel('Loss')\n",
        "    plt.plot(loss)\n",
        "    plt.plot(val_loss)\n",
        "    plt.legend(['Training','Validation'])\n",
        "\n",
        "    plt.figure(figsize=(10,4))\n",
        "    plt.xlabel('Epochs')\n",
        "    plt.ylabel('Accuracy')\n",
        "    plt.plot(acc)\n",
        "    plt.plot(val_acc)\n",
        "    plt.legend(['Training','Validation'])\n",
        "\n",
        "    plt.show()"
      ],
      "execution_count": 0,
      "outputs": []
    },
    {
      "cell_type": "code",
      "metadata": {
        "id": "z0q63Wdk6nb_",
        "colab_type": "code",
        "colab": {}
      },
      "source": [
        "plot_results(history)"
      ],
      "execution_count": 0,
      "outputs": []
    },
    {
      "cell_type": "markdown",
      "metadata": {
        "id": "ZNGlLY5m6ncC",
        "colab_type": "text"
      },
      "source": [
        "Look at the plot and determine the epoch after which the model starts to overfit. Then, re-train your model using that many epochs and compute the accuracy of the tagger on the test data."
      ]
    },
    {
      "cell_type": "code",
      "metadata": {
        "id": "v_rT5ILt6ncC",
        "colab_type": "code",
        "colab": {}
      },
      "source": [
        "# Encode the test_data using the 'encode' function you created before\n",
        "\n",
        "\n",
        "# Evaluate the model on test data, as you did in the DNN and CNN lab\n",
        "\n"
      ],
      "execution_count": 0,
      "outputs": []
    },
    {
      "cell_type": "markdown",
      "metadata": {
        "id": "2N0DWZD-6ncF",
        "colab_type": "text"
      },
      "source": [
        "## Submission"
      ]
    },
    {
      "cell_type": "markdown",
      "metadata": {
        "id": "y6N_OpmL6ncF",
        "colab_type": "text"
      },
      "source": [
        "Your notebook should include all your code, and should be runnable without further modification. It should also include answers to the following questions:\n",
        "\n",
        "How many epochs did you train the final model for?\n",
        "\n",
        "What accuracy did you achieve on the test data?\n",
        "\n",
        "What dimensionality of the embedding did you use for your best results?\n",
        "\n",
        "What dimensionality of the output of the bidirectional LSTM layer did you use for your best results?\n",
        "\n",
        "Instead of manually identifying a good model, and redoing the training to that number of epochs, how can you automatically stop the training when the validation performance does not improve anymore? Hint: see Lecture 2\n",
        "\n",
        "What did you find particularly surprising or hard?\n",
        "\n",
        "How do you calculate the number of parameters in the embedding layer? Hint: the calculation includes the vocabulary size and the embedding dimension\n",
        "\n",
        "How do you calculate the number of parameters in the bidirectional LSTM layer? Hint: A LSTM layer has 4 parts; cell, input gate, output gate, forget gate, each part contains two weight matrices and a bias vector. A bidirectional LSTM contains two LSTMs.\n",
        "\n",
        "https://en.wikipedia.org/wiki/Long_short-term_memory"
      ]
    },
    {
      "cell_type": "markdown",
      "metadata": {
        "id": "ZAtskhit6ncF",
        "colab_type": "text"
      },
      "source": [
        "*Insert your answers here.*"
      ]
    },
    {
      "cell_type": "markdown",
      "metadata": {
        "id": "zjQdLTME6ncG",
        "colab_type": "text"
      },
      "source": [
        "## Ethics in deep learning\n",
        "\n",
        "Now that you have watched the 5 lectures, and completed the 3 laborations in this course, what do you think is the most important ethical question related to deep learning? Motivate your answer.\n",
        "\n"
      ]
    },
    {
      "cell_type": "markdown",
      "metadata": {
        "id": "o28w15uS6ncG",
        "colab_type": "text"
      },
      "source": [
        "*Insert your answer here.*"
      ]
    }
  ]
}