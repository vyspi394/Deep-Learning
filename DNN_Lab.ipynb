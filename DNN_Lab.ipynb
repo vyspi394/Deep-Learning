{
  "nbformat": 4,
  "nbformat_minor": 0,
  "metadata": {
    "kernelspec": {
      "display_name": "Python 3",
      "language": "python",
      "name": "python3"
    },
    "language_info": {
      "codemirror_mode": {
        "name": "ipython",
        "version": 3
      },
      "file_extension": ".py",
      "mimetype": "text/x-python",
      "name": "python",
      "nbconvert_exporter": "python",
      "pygments_lexer": "ipython3",
      "version": "3.7.4"
    },
    "colab": {
      "name": "DNN_Lab.ipynb",
      "provenance": []
    }
  },
  "cells": [
    {
      "cell_type": "markdown",
      "metadata": {
        "id": "PpafjaUebIjq",
        "colab_type": "text"
      },
      "source": [
        "# Deep Neural Networks Laboration\n",
        "\n",
        "Data used in this laboration are from the Kitsune Network Attack Dataset, https://archive.ics.uci.edu/ml/datasets/Kitsune+Network+Attack+Dataset . We will focus on the 'Mirai' part of the dataset. Your task is to make a DNN that can classify if each attack is benign or malicious. The dataset has 116 covariates, but to make it a bit more difficult we will remove the first 24 covariates.\n",
        "\n",
        "You need to answer all questions in this notebook."
      ]
    },
    {
      "cell_type": "code",
      "metadata": {
        "id": "lvE2stkZbRvD",
        "colab_type": "code",
        "outputId": "ec51002d-ddcc-442d-946d-34632215c7c9",
        "colab": {
          "base_uri": "https://localhost:8080/",
          "height": 34
        }
      },
      "source": [
        "from google.colab import drive\n",
        "drive.mount('/content/drive')"
      ],
      "execution_count": 37,
      "outputs": [
        {
          "output_type": "stream",
          "text": [
            "Drive already mounted at /content/drive; to attempt to forcibly remount, call drive.mount(\"/content/drive\", force_remount=True).\n"
          ],
          "name": "stdout"
        }
      ]
    },
    {
      "cell_type": "markdown",
      "metadata": {
        "id": "CHE1tG4wbIjr",
        "colab_type": "text"
      },
      "source": [
        "# Part 1: Get the data\n",
        "\n",
        "Use `wget` in the terminal of your cloud machine (in the same directory as where you have saved this notebook) to download the data, i.e.\n",
        "\n",
        "wget https://archive.ics.uci.edu/ml/machine-learning-databases/00516/mirai/Mirai_dataset.csv.gz\n",
        "\n",
        "wget https://archive.ics.uci.edu/ml/machine-learning-databases/00516/mirai/Mirai_labels.csv.gz\n",
        "\n",
        "Then unpack the files using `gunzip` in the terminal, i.e.\n",
        "\n",
        "gunzip Mirai_dataset.csv.gz\n",
        "\n",
        "gunzip Mirai_labels.csv.gz"
      ]
    },
    {
      "cell_type": "markdown",
      "metadata": {
        "id": "5SNZVpMcbIjt",
        "colab_type": "text"
      },
      "source": [
        "# Part 2: Get a graphics card\n",
        "\n",
        "Lets make sure that our script can see the graphics card that will be used. The graphics cards will perform all the time consuming calculations in every training iteration."
      ]
    },
    {
      "cell_type": "code",
      "metadata": {
        "id": "nDh2b8JNbIju",
        "colab_type": "code",
        "colab": {}
      },
      "source": [
        "import os\n",
        "import warnings\n",
        "\n",
        "# Ignore FutureWarning from numpy\n",
        "warnings.simplefilter(action='ignore', category=FutureWarning)\n",
        "\n",
        "import keras.backend as K\n",
        "import tensorflow as tf\n",
        "\n",
        "os.environ[\"CUDA_DEVICE_ORDER\"]=\"PCI_BUS_ID\";\n",
        " \n",
        "# The GPU id to use, usually either \"0\" or \"1\";\n",
        "os.environ[\"CUDA_VISIBLE_DEVICES\"]=\"0\";\n",
        "\n",
        "# Allow growth of GPU memory, otherwise it will always look like all the memory is being used\n",
        "#physical_devices = tf.config.experimental.list_physical_devices('GPU')\n",
        "#tf.config.experimental.set_memory_growth(physical_devices[0], True) "
      ],
      "execution_count": 0,
      "outputs": []
    },
    {
      "cell_type": "markdown",
      "metadata": {
        "id": "nTYbpcUtbIj0",
        "colab_type": "text"
      },
      "source": [
        "# Part 3: Hardware\n",
        "\n",
        "In deep learning, the computer hardware is very important. You should always know what kind of hardware you are working on.\n",
        "\n",
        "Question 1: What graphics card is available in the cloud machine? Run 'nvidia-smi' in the terminal. \n",
        "\n",
        "Question 2: Google the name of the graphics card, how many CUDA cores does it have?\n",
        "\n",
        "Question 3: How much memory does the graphics card have?\n",
        "\n",
        "Question 4: What is stored in the GPU memory while training a DNN ?\n",
        "\n",
        "Question 5: What CPU is available in the cloud machine? How many cores does it have? Run 'lscpu' in the terminal.\n",
        "\n",
        "Question 6: How much CPU memory (RAM) is available in the cloud machine? Run 'free -g' in the terminal."
      ]
    },
    {
      "cell_type": "markdown",
      "metadata": {
        "id": "FMa002WYbIj1",
        "colab_type": "text"
      },
      "source": [
        "# Part 4: Load the data\n",
        "\n",
        "Load the dataset from the csv files, it will take some time since it is almost 1.4 GB. \n",
        "\n",
        "We will use the function `genfromtxt` to load the data.\n",
        "\n",
        "https://docs.scipy.org/doc/numpy/reference/generated/numpy.genfromtxt.html\n",
        "\n",
        "Load the data from csv files the first time, then save the data as numpy files for faster loading the next time.\n",
        "\n",
        "\n"
      ]
    },
    {
      "cell_type": "code",
      "metadata": {
        "id": "25z53pw2bIj2",
        "colab_type": "code",
        "outputId": "2b51c6aa-06fa-43a4-a3bd-a30cac8ccf7f",
        "colab": {
          "base_uri": "https://localhost:8080/",
          "height": 84
        }
      },
      "source": [
        "from numpy import genfromtxt\n",
        "import numpy as np\n",
        "\n",
        "# Load data from file\n",
        "# X = covariates, Y = labels\n",
        "\n",
        "# Save data as numpy arrays, for faster loading in future calls to this cell\n",
        "#np.save('Mirai_data.npy', X)\n",
        "#np.save('Mirai_labels.npy', Y)\n",
        "\n",
        "# Load data from numpy arrays, for faster loading\n",
        "X = np.load('/content/drive/My Drive/Colab Notebooks/Mira/Mirai_data.npy')\n",
        "Y = np.load('/content/drive/My Drive/Colab Notebooks/Mira/Mirai_labels.npy')\n",
        "# Remove the first 24 covariates\n",
        "X=X[:,24:]\n",
        "print('The covariates have size {}.'.format(X.shape))\n",
        "print('The labels have size {}.'.format(Y.shape))\n",
        "# Print the number of examples of each class\n",
        "print('Class 0 (=Benign) has {} examples.'.format(np.count_nonzero(Y==0)))\n",
        "print('Class 1 (=Malicious) has {} examples.'.format(np.count_nonzero(Y==1)))"
      ],
      "execution_count": 5,
      "outputs": [
        {
          "output_type": "stream",
          "text": [
            "The covariates have size (764137, 92).\n",
            "The labels have size (764137,).\n",
            "Class 0 (=Benign) has 121621 examples.\n",
            "Class 1 (=Malicious) has 642516 examples.\n"
          ],
          "name": "stdout"
        }
      ]
    },
    {
      "cell_type": "markdown",
      "metadata": {
        "id": "LRWU0OKvbIj6",
        "colab_type": "text"
      },
      "source": [
        "# Part 5: How good is a naive classifier?\n",
        "\n",
        "Question 7: Given the distribution of examples, how high classification performance can a naive classifier obtain? The naive classifier will assume that all examples belong to one class. Note: you do not need to make a naive classifier, this is a theoretical question, just to understand how good performance we can obtain by random chance."
      ]
    },
    {
      "cell_type": "code",
      "metadata": {
        "id": "aGcTbicWbIj7",
        "colab_type": "code",
        "colab": {
          "base_uri": "https://localhost:8080/",
          "height": 50
        },
        "outputId": "1b83dd8a-824d-4099-e09f-a4b9094a1fa9"
      },
      "source": [
        "# It is common to have NaNs in the data, lets check for it. Hint: np.isnan()\n",
        "def count_nan(w):\n",
        "    count=0\n",
        "    u=np.isnan(w).flatten()\n",
        "    for i in u:\n",
        "        if i==True:\n",
        "            count=count+1\n",
        "    return count\n",
        "# Print the number of NaNs (not a number) in the labels\n",
        "print(\"The number of Nans in labels\",count_nan(Y))\n",
        "# Print the number of NaNs in the covariates\n",
        "print(\"The number of Nans in covariates\",count_nan(X))"
      ],
      "execution_count": 6,
      "outputs": [
        {
          "output_type": "stream",
          "text": [
            "The number of Nans in labels 0\n",
            "The number of Nans in covariates 0\n"
          ],
          "name": "stdout"
        }
      ]
    },
    {
      "cell_type": "markdown",
      "metadata": {
        "id": "_TdM7VfbbIj_",
        "colab_type": "text"
      },
      "source": [
        "# Part 6: Preprocessing\n",
        "\n",
        "Lets do some simple preprocessing"
      ]
    },
    {
      "cell_type": "code",
      "metadata": {
        "id": "HFEo3LGYbIkA",
        "colab_type": "code",
        "colab": {
          "base_uri": "https://localhost:8080/",
          "height": 470
        },
        "outputId": "df426edc-dc44-47e1-b33b-43d574656868"
      },
      "source": [
        "# Convert covariates to floats\n",
        "X=X.astype(float)\n",
        "# Convert labels to ints\n",
        "Y=Y.astype(int)\n",
        "#mean and stanard deviation of the data\n",
        "mu=np.mean(X,axis=0)\n",
        "sigma=np.std(X,axis=0)\n",
        "# Remove mean of each covariate (column)\n",
        "X=X-mu[None,:]\n",
        "# Divide each covariate (column) by its standard deviation\n",
        "X=X/sigma[None,:]  \n",
        "# Check that mean is 0 and standard deviation is 1 for all covariates, by printing mean and std\n",
        "mu_new=np.mean(X,axis=0)\n",
        "sigma_new=np.std(X,axis=0)\n",
        "#print(mu)\n",
        "#print(sigma)\n",
        "print(\"The new means\",mu_new)\n",
        "print(\"The new standard deviation\",sigma_new)\n"
      ],
      "execution_count": 7,
      "outputs": [
        {
          "output_type": "stream",
          "text": [
            "The new means [-3.19451533e-18 -6.30927527e-14  1.19963828e-13  4.56743018e-15\n",
            "  4.08813918e-14  1.46461039e-13  5.65402045e-16 -1.69587525e-14\n",
            " -3.03376191e-13  1.25514109e-12 -2.72042402e-12 -1.10780892e-13\n",
            " -1.22468718e-13 -1.70290612e-13 -1.02139901e-14 -2.32208048e-12\n",
            "  1.40695736e-12  1.20673259e-12 -1.05095447e-13  6.81889584e-14\n",
            " -1.00490973e-13  5.98862427e-14 -1.01547416e-12 -1.66283323e-12\n",
            " -1.58597771e-12 -1.31674067e-13  4.43360813e-13  8.41389037e-13\n",
            "  5.77665264e-14 -4.50766872e-13 -2.54973195e-12  3.12056823e-13\n",
            " -1.53665212e-13  1.69273859e-12  9.50945604e-13  1.50953004e-13\n",
            " -1.01059397e-12 -5.11453792e-13 -1.86373908e-12 -2.09806690e-13\n",
            "  1.03169903e-12 -1.47389966e-12 -1.69587525e-14 -1.64918984e-16\n",
            " -5.13325984e-14 -1.02166240e-14 -1.74685907e-15  1.34329189e-13\n",
            "  5.98601714e-14  1.48745574e-17 -4.24927612e-13  5.77728088e-14\n",
            "  1.25638129e-15  1.71850347e-13  1.50955720e-13  2.14478905e-14\n",
            "  3.65405571e-14  1.21380412e-13 -9.10989074e-13 -6.30800138e-13\n",
            " -1.58038622e-12  2.62938522e-13 -7.57219424e-15 -2.89359393e-14\n",
            " -3.88851503e-13 -1.52984352e-12 -1.03687066e-12  2.75437407e-13\n",
            "  2.44539294e-13 -6.73050928e-15  1.07511476e-13  2.60284113e-13\n",
            " -2.18130768e-13 -1.18954843e-12 -2.82172408e-12  5.45994503e-14\n",
            "  5.46183481e-15  3.71306144e-14  2.33292940e-13 -1.73194638e-12\n",
            " -1.42020216e-13 -1.71843058e-12  5.29632937e-13 -3.21444033e-14\n",
            " -4.59764043e-14  3.53584091e-13 -1.44369337e-12 -1.26142028e-13\n",
            "  1.25980728e-13  1.20260434e-13  4.34647402e-14 -4.07680570e-14]\n",
            "The new standard deviation [1. 1. 1. 1. 1. 1. 1. 1. 1. 1. 1. 1. 1. 1. 1. 1. 1. 1. 1. 1. 1. 1. 1. 1.\n",
            " 1. 1. 1. 1. 1. 1. 1. 1. 1. 1. 1. 1. 1. 1. 1. 1. 1. 1. 1. 1. 1. 1. 1. 1.\n",
            " 1. 1. 1. 1. 1. 1. 1. 1. 1. 1. 1. 1. 1. 1. 1. 1. 1. 1. 1. 1. 1. 1. 1. 1.\n",
            " 1. 1. 1. 1. 1. 1. 1. 1. 1. 1. 1. 1. 1. 1. 1. 1. 1. 1. 1. 1.]\n"
          ],
          "name": "stdout"
        }
      ]
    },
    {
      "cell_type": "markdown",
      "metadata": {
        "id": "wrCRGpPnbIkF",
        "colab_type": "text"
      },
      "source": [
        "# Part 7: Split the dataset\n",
        "\n",
        "Use the first 70% of the dataset for training, leave the other 30% for validation and test, call the variables\n",
        "\n",
        "Xtrain (70%)\n",
        "\n",
        "Xtemp  (30%)\n",
        "\n",
        "Ytrain (70%)\n",
        "\n",
        "Ytemp  (30%)\n"
      ]
    },
    {
      "cell_type": "code",
      "metadata": {
        "id": "HBzTE9lHbIkH",
        "colab_type": "code",
        "colab": {
          "base_uri": "https://localhost:8080/",
          "height": 151
        },
        "outputId": "c203cc62-f288-4f92-fac1-d11a17a671bf"
      },
      "source": [
        "# Your code\n",
        "from sklearn.model_selection import train_test_split\n",
        "Xtrain,Xtemp,Ytrain,Ytemp=train_test_split(X,Y,test_size=0.3)\n",
        "print('Xtrain has size {}.'.format(Xtrain.shape))\n",
        "print('Ytrain has size {}.'.format(Ytrain.shape))\n",
        "print('Xtemp has size {}.'.format(Xtemp.shape))\n",
        "print('Ytemp has size {}.'.format(Ytemp.shape))\n",
        "# Print the number of examples of each class, for the training data and the remaining 30%\n",
        "print('Class 0 (=Benign) has {} examples.'.format(np.count_nonzero(Ytrain==0)))\n",
        "print('Class 1 (=Malicious) has {} examples.'.format(np.count_nonzero(Ytrain==1)))\n",
        "print('Class 0 (=Benign) has {} examples.'.format(np.count_nonzero(Ytemp==0)))\n",
        "print('Class 1 (=Malicious) has {} examples.'.format(np.count_nonzero(Ytemp==1)))"
      ],
      "execution_count": 8,
      "outputs": [
        {
          "output_type": "stream",
          "text": [
            "Xtrain has size (534895, 92).\n",
            "Ytrain has size (534895,).\n",
            "Xtemp has size (229242, 92).\n",
            "Ytemp has size (229242,).\n",
            "Class 0 (=Benign) has 85184 examples.\n",
            "Class 1 (=Malicious) has 449711 examples.\n",
            "Class 0 (=Benign) has 36437 examples.\n",
            "Class 1 (=Malicious) has 192805 examples.\n"
          ],
          "name": "stdout"
        }
      ]
    },
    {
      "cell_type": "markdown",
      "metadata": {
        "id": "EyXyQamlbIkO",
        "colab_type": "text"
      },
      "source": [
        "# Part 8: Number of examples per class\n",
        "\n",
        "Question 8: Can we use the dataset as it is? Why not?\n",
        "\n",
        "Lets randomly shuffle the data, to get some examples of each class in training data and in the remaining 30%. Use the function `shuffle` in scikit learn\n",
        "\n",
        "https://scikit-learn.org/stable/modules/generated/sklearn.utils.shuffle.html"
      ]
    },
    {
      "cell_type": "code",
      "metadata": {
        "id": "BK8bnrVhbIkQ",
        "colab_type": "code",
        "colab": {
          "base_uri": "https://localhost:8080/",
          "height": 84
        },
        "outputId": "b359aacb-765d-4dd2-fd29-ef66c8208f7c"
      },
      "source": [
        "from sklearn.utils import shuffle\n",
        "# Randomly shuffle data, to get both classes in training and testing\n",
        "X_shuffle,Y_shuffle=shuffle(X,Y,random_state=1)\n",
        "# Divide the data into training and validation/test again\n",
        "Xtrain,Xtemp,Ytrain,Ytemp=train_test_split(X_shuffle,Y_shuffle,test_size=0.3)\n",
        "# Print the number of examples of each class, for the training data and the remaining 30%\n",
        "print('Class 0 (=Benign) has {} examples.'.format(np.count_nonzero(Ytrain==0)))\n",
        "print('Class 1 (=Malicious) has {} examples.'.format(np.count_nonzero(Ytrain==1)))\n",
        "print('Class 0 (=Benign) has {} examples.'.format(np.count_nonzero(Ytemp==0)))\n",
        "print('Class 1 (=Malicious) has {} examples.'.format(np.count_nonzero(Ytemp==1)))"
      ],
      "execution_count": 9,
      "outputs": [
        {
          "output_type": "stream",
          "text": [
            "Class 0 (=Benign) has 84878 examples.\n",
            "Class 1 (=Malicious) has 450017 examples.\n",
            "Class 0 (=Benign) has 36743 examples.\n",
            "Class 1 (=Malicious) has 192499 examples.\n"
          ],
          "name": "stdout"
        }
      ]
    },
    {
      "cell_type": "markdown",
      "metadata": {
        "id": "a8A2TV6EbIkV",
        "colab_type": "text"
      },
      "source": [
        "#  Part 9: Split non-training data data into validation and test\n",
        "Split your non-training data (Xtemp, Ytemp) into 50% validation (Xval, Yval) and 50% testing (Xtest, Ytest), we use a function from scikit learn. \n",
        "\n",
        "https://scikit-learn.org/stable/modules/generated/sklearn.model_selection.train_test_split.html\n"
      ]
    },
    {
      "cell_type": "code",
      "metadata": {
        "id": "vBMoiMhUbIkW",
        "colab_type": "code",
        "colab": {
          "base_uri": "https://localhost:8080/",
          "height": 34
        },
        "outputId": "4d437421-0426-45f5-8654-8fb10166524e"
      },
      "source": [
        "from sklearn.model_selection import train_test_split\n",
        "Xval,Xtest,Yval,Ytest=train_test_split(Xtrain,Ytrain,test_size=0.5)\n",
        "print('The validation and test data have size {}, {}, {} and {}'.format(Xval.shape, Xtest.shape, Yval.shape, Ytest.shape))"
      ],
      "execution_count": 11,
      "outputs": [
        {
          "output_type": "stream",
          "text": [
            "The validation and test data have size (267447, 92), (267448, 92), (267447,) and (267448,)\n"
          ],
          "name": "stdout"
        }
      ]
    },
    {
      "cell_type": "markdown",
      "metadata": {
        "id": "c2HLXQk6bIka",
        "colab_type": "text"
      },
      "source": [
        "# Part 10: DNN classification\n",
        "\n",
        "Finish this code to create a first version of the classifier using a DNN. Start with a simple network with 2 dense layers (with 20 nodes each), using sigmoid activation functions. The final dense layer should have a single node and a sigmoid activation function. We start with the SGD optimizer.\n",
        "\n",
        "Relevant functions are\n",
        "\n",
        "`model.add()`, adds a layer to the network\n",
        "\n",
        "`Dense()`, a dense network layer\n",
        "\n",
        "`model.compile()`, compile the model, add \" metrics=['accuracy'] \" to print the classification accuracy during the training\n",
        "\n",
        "`model.fit()`, train the model with some training data\n",
        "\n",
        "`model.evaluate()`, apply the trained model to some test data\n",
        "\n",
        "See https://keras.io/layers/core/ for information on how the `Dense()` function works\n",
        "\n",
        "Import a relevant cost / loss function for binary classification from keras.losses (https://keras.io/losses/)\n",
        "\n",
        "See https://keras.io/models/model/ for how to compile, train and evaluate the model"
      ]
    },
    {
      "cell_type": "code",
      "metadata": {
        "id": "6yWi_c2BbIka",
        "colab_type": "code",
        "colab": {}
      },
      "source": [
        "from keras.models import Sequential, Model\n",
        "from keras.layers import Input, Dense\n",
        "from keras.optimizers import SGD\n",
        "from keras.losses import binary_crossentropy as bc\n",
        "from keras.layers import BatchNormalization, Dropout\n",
        "\n",
        "# Set seed from random number generator, for better comparisons\n",
        "from numpy.random import seed\n",
        "seed(123)\n",
        "\n",
        "def build_DNN(input_shape, n_layers, n_nodes, act_fun='sigmoid', optimizer='sgd', learning_rate=0.01, \n",
        "              use_bn=False, use_dropout=False, use_custom_dropout=False):\n",
        "    \n",
        "    # Setup optimizer, depending on input parameter string\n",
        "    \n",
        "    # Setup a sequential model\n",
        "    model = Sequential()\n",
        "\n",
        "    # Add layers to the model, using the input parameters of the build_DNN function\n",
        "    # Add first layer, requires input shape\n",
        "    model.add(Dense(n_nodes, activation=act_fun, input_shape=input_shape))\n",
        "    #Dropping out neurons for optimization\n",
        "    if use_dropout==True:\n",
        "        if use_custom_dropout==True:\n",
        "            model.add(myDropout(rate=0.5))#Setting a custom drop out rate of 0.5\n",
        "        else:\n",
        "            model.add(myDropout())#Else use default dropout rate.\n",
        "    #Adding batch normalization\n",
        "    if use_bn==True:\n",
        "        model.add(BatchNormalization())\n",
        "    \n",
        "    # Add remaining layers, do not require input shape\n",
        "    for i in range(n_layers-1):\n",
        "        model.add(Dense(n_nodes, activation=act_fun)) \n",
        "        #Dropping out neurons for optimization\n",
        "        \n",
        "        #Adding batch normalization\n",
        "        if use_bn==True:\n",
        "            model.add(BatchNormalization())\n",
        "    # Final layer\n",
        "    model.add(Dense(1, activation=act_fun))\n",
        "    #Dropping out neurons for optimization\n",
        "    \n",
        "    #Adding batch normalization\n",
        "    if use_bn==True:\n",
        "        model.add(BatchNormalization())\n",
        "    # Compile model\n",
        "    model.compile(loss=bc, optimizer=optimizer)\n",
        "    \n",
        "    return model"
      ],
      "execution_count": 0,
      "outputs": []
    },
    {
      "cell_type": "code",
      "metadata": {
        "id": "d3pulIFibIkd",
        "colab_type": "code",
        "colab": {}
      },
      "source": [
        "# Lets define a help function for plotting the training results\n",
        "\n",
        "# IMPORTANT NOTE\n",
        "# The history unfortunately behaves a bit randomly for every user\n",
        "# If the plots for accuracy and loss look mixed, change the order of\n",
        "# val_loss, val_acc, loss, acc\n",
        "# until the plots look as they \"should\"\n",
        "\n",
        "import matplotlib.pyplot as plt\n",
        "def plot_results(history):\n",
        "    val_loss, val_acc, loss, acc = history.history.values()\n",
        "\n",
        "    plt.figure(figsize=(10,4))\n",
        "    plt.xlabel('Epochs')\n",
        "    plt.ylabel('Loss')\n",
        "    plt.plot(loss)\n",
        "    plt.plot(val_loss)\n",
        "    plt.legend(['Training','Validation'])\n",
        "\n",
        "    plt.figure(figsize=(10,4))\n",
        "    plt.xlabel('Epochs')\n",
        "    plt.ylabel('Accuracy')\n",
        "    plt.plot(acc)\n",
        "    plt.plot(val_acc)\n",
        "    plt.legend(['Training','Validation'])\n",
        "\n",
        "    plt.show()"
      ],
      "execution_count": 0,
      "outputs": []
    },
    {
      "cell_type": "markdown",
      "metadata": {
        "id": "YCJDdOKtbIkg",
        "colab_type": "text"
      },
      "source": [
        "# Part 11: Train the DNN\n",
        "\n",
        "Time to train the DNN, we start simple with 2 layers with 2 nodes each, learning rate 0.1."
      ]
    },
    {
      "cell_type": "markdown",
      "metadata": {
        "id": "ob3VECNnbIkh",
        "colab_type": "text"
      },
      "source": [
        "### 2 layers, 20 nodes"
      ]
    },
    {
      "cell_type": "code",
      "metadata": {
        "scrolled": true,
        "id": "4lLPm1KRbIki",
        "colab_type": "code",
        "colab": {
          "base_uri": "https://localhost:8080/",
          "height": 706
        },
        "outputId": "779bf45b-920c-4a96-814d-fd8e8b090faf"
      },
      "source": [
        "# Setup some training parameters\n",
        "batch_size = 10000\n",
        "epochs = 20\n",
        "\n",
        "input_shape = (Xtrain.shape[1],)\n",
        "\n",
        "# Build the model\n",
        "model1 = build_DNN(input_shape=input_shape,n_layers=2,n_nodes=20,learning_rate=0.1)\n",
        "\n",
        "# Train the model, provide training data and validation data\n",
        "history1 = model1.fit(Xtrain, Ytrain, batch_size=batch_size, epochs=epochs, validation_data=(Xval, Yval))"
      ],
      "execution_count": 33,
      "outputs": [
        {
          "output_type": "stream",
          "text": [
            "Train on 534895 samples, validate on 267447 samples\n",
            "Epoch 1/20\n",
            "534895/534895 [==============================] - 1s 2us/step - loss: 0.4334 - val_loss: 0.4306\n",
            "Epoch 2/20\n",
            "534895/534895 [==============================] - 1s 2us/step - loss: 0.4285 - val_loss: 0.4260\n",
            "Epoch 3/20\n",
            "534895/534895 [==============================] - 1s 2us/step - loss: 0.4241 - val_loss: 0.4217\n",
            "Epoch 4/20\n",
            "534895/534895 [==============================] - 1s 2us/step - loss: 0.4198 - val_loss: 0.4175\n",
            "Epoch 5/20\n",
            "534895/534895 [==============================] - 1s 2us/step - loss: 0.4157 - val_loss: 0.4134\n",
            "Epoch 6/20\n",
            "534895/534895 [==============================] - 1s 2us/step - loss: 0.4115 - val_loss: 0.4093\n",
            "Epoch 7/20\n",
            "534895/534895 [==============================] - 1s 2us/step - loss: 0.4074 - val_loss: 0.4051\n",
            "Epoch 8/20\n",
            "534895/534895 [==============================] - 1s 2us/step - loss: 0.4033 - val_loss: 0.4010\n",
            "Epoch 9/20\n",
            "534895/534895 [==============================] - 1s 2us/step - loss: 0.3991 - val_loss: 0.3968\n",
            "Epoch 10/20\n",
            "534895/534895 [==============================] - 1s 2us/step - loss: 0.3949 - val_loss: 0.3926\n",
            "Epoch 11/20\n",
            "534895/534895 [==============================] - 1s 2us/step - loss: 0.3906 - val_loss: 0.3883\n",
            "Epoch 12/20\n",
            "534895/534895 [==============================] - 1s 2us/step - loss: 0.3863 - val_loss: 0.3839\n",
            "Epoch 13/20\n",
            "534895/534895 [==============================] - 1s 2us/step - loss: 0.3819 - val_loss: 0.3795\n",
            "Epoch 14/20\n",
            "534895/534895 [==============================] - 1s 2us/step - loss: 0.3774 - val_loss: 0.3749\n",
            "Epoch 15/20\n",
            "534895/534895 [==============================] - 1s 2us/step - loss: 0.3727 - val_loss: 0.3703\n",
            "Epoch 16/20\n",
            "534895/534895 [==============================] - 1s 2us/step - loss: 0.3680 - val_loss: 0.3655\n",
            "Epoch 17/20\n",
            "534895/534895 [==============================] - 1s 2us/step - loss: 0.3632 - val_loss: 0.3607\n",
            "Epoch 18/20\n",
            "534895/534895 [==============================] - 1s 2us/step - loss: 0.3583 - val_loss: 0.3557\n",
            "Epoch 19/20\n",
            "534895/534895 [==============================] - 1s 2us/step - loss: 0.3533 - val_loss: 0.3507\n",
            "Epoch 20/20\n",
            "534895/534895 [==============================] - 1s 2us/step - loss: 0.3482 - val_loss: 0.3456\n"
          ],
          "name": "stdout"
        }
      ]
    },
    {
      "cell_type": "code",
      "metadata": {
        "id": "z8Nrir_vbIkm",
        "colab_type": "code",
        "colab": {
          "base_uri": "https://localhost:8080/",
          "height": 67
        },
        "outputId": "63bd856a-51ae-47ea-d715-64b89c2c1dec"
      },
      "source": [
        "# Evaluate the model on the test data\n",
        "score = model1.evaluate(Xtest, Ytest, batch_size=batch_size)\n",
        "acc=1-score\n",
        "print('Test loss: %.4f' % score)\n",
        "print('Test accuracy: %.4f' % acc)"
      ],
      "execution_count": 34,
      "outputs": [
        {
          "output_type": "stream",
          "text": [
            "267448/267448 [==============================] - 0s 1us/step\n",
            "Test loss: 0.3456\n",
            "Test accuracy: 0.6544\n"
          ],
          "name": "stdout"
        }
      ]
    },
    {
      "cell_type": "code",
      "metadata": {
        "id": "sh7ZMfohbIko",
        "colab_type": "code",
        "colab": {
          "base_uri": "https://localhost:8080/",
          "height": 279
        },
        "outputId": "e1852d5a-a63c-44ba-c7fa-0e292fd97dfd"
      },
      "source": [
        "# Plot the history from the training run\n",
        "plot_results(history1)"
      ],
      "execution_count": 35,
      "outputs": [
        {
          "output_type": "error",
          "ename": "ValueError",
          "evalue": "ignored",
          "traceback": [
            "\u001b[0;31m---------------------------------------------------------------------------\u001b[0m",
            "\u001b[0;31mValueError\u001b[0m                                Traceback (most recent call last)",
            "\u001b[0;32m<ipython-input-35-a51fc07a22b0>\u001b[0m in \u001b[0;36m<module>\u001b[0;34m()\u001b[0m\n\u001b[0;32m----> 1\u001b[0;31m \u001b[0mplot_results\u001b[0m\u001b[0;34m(\u001b[0m\u001b[0mhistory1\u001b[0m\u001b[0;34m)\u001b[0m\u001b[0;34m\u001b[0m\u001b[0;34m\u001b[0m\u001b[0m\n\u001b[0m",
            "\u001b[0;32m<ipython-input-22-ff9d9a7d9f1b>\u001b[0m in \u001b[0;36mplot_results\u001b[0;34m(history)\u001b[0m\n\u001b[1;32m      2\u001b[0m \u001b[0;32mimport\u001b[0m \u001b[0mmatplotlib\u001b[0m\u001b[0;34m.\u001b[0m\u001b[0mpyplot\u001b[0m \u001b[0;32mas\u001b[0m \u001b[0mplt\u001b[0m\u001b[0;34m\u001b[0m\u001b[0;34m\u001b[0m\u001b[0m\n\u001b[1;32m      3\u001b[0m \u001b[0;32mdef\u001b[0m \u001b[0mplot_results\u001b[0m\u001b[0;34m(\u001b[0m\u001b[0mhistory\u001b[0m\u001b[0;34m)\u001b[0m\u001b[0;34m:\u001b[0m\u001b[0;34m\u001b[0m\u001b[0;34m\u001b[0m\u001b[0m\n\u001b[0;32m----> 4\u001b[0;31m     \u001b[0mval_loss\u001b[0m\u001b[0;34m,\u001b[0m \u001b[0mval_acc\u001b[0m\u001b[0;34m,\u001b[0m \u001b[0mloss\u001b[0m\u001b[0;34m,\u001b[0m \u001b[0macc\u001b[0m \u001b[0;34m=\u001b[0m \u001b[0mhistory\u001b[0m\u001b[0;34m.\u001b[0m\u001b[0mhistory\u001b[0m\u001b[0;34m.\u001b[0m\u001b[0mvalues\u001b[0m\u001b[0;34m(\u001b[0m\u001b[0;34m)\u001b[0m\u001b[0;34m\u001b[0m\u001b[0;34m\u001b[0m\u001b[0m\n\u001b[0m\u001b[1;32m      5\u001b[0m \u001b[0;34m\u001b[0m\u001b[0m\n\u001b[1;32m      6\u001b[0m     \u001b[0mplt\u001b[0m\u001b[0;34m.\u001b[0m\u001b[0mfigure\u001b[0m\u001b[0;34m(\u001b[0m\u001b[0mfigsize\u001b[0m\u001b[0;34m=\u001b[0m\u001b[0;34m(\u001b[0m\u001b[0;36m10\u001b[0m\u001b[0;34m,\u001b[0m\u001b[0;36m4\u001b[0m\u001b[0;34m)\u001b[0m\u001b[0;34m)\u001b[0m\u001b[0;34m\u001b[0m\u001b[0;34m\u001b[0m\u001b[0m\n",
            "\u001b[0;31mValueError\u001b[0m: not enough values to unpack (expected 4, got 2)"
          ]
        }
      ]
    },
    {
      "cell_type": "markdown",
      "metadata": {
        "id": "JyYQQc4hbIkq",
        "colab_type": "text"
      },
      "source": [
        "# Part 12: More questions\n",
        "\n",
        "Question 9: What happens if you add several Dense layers without specifying the activation function?\n",
        "\n",
        "Question 10: How are the weights in each dense layer initialized as default? How are the bias weights initialized?\n"
      ]
    },
    {
      "cell_type": "markdown",
      "metadata": {
        "id": "waxECN5lbIkr",
        "colab_type": "text"
      },
      "source": [
        "# Part 13: Balancing the classes\n",
        "\n",
        "This dataset is rather unbalanced, we need to define class weights so that the training pays more attention to the class with fewer samples. We use a function in scikit learn\n",
        "\n",
        "https://scikit-learn.org/stable/modules/generated/sklearn.utils.class_weight.compute_class_weight.html"
      ]
    },
    {
      "cell_type": "code",
      "metadata": {
        "id": "KgH1azIgbIkr",
        "colab_type": "code",
        "colab": {}
      },
      "source": [
        "from sklearn.utils import class_weight\n",
        "\n",
        "# Calculate class weights\n",
        "\n",
        "\n",
        "# Print the class weights\n"
      ],
      "execution_count": 0,
      "outputs": []
    },
    {
      "cell_type": "markdown",
      "metadata": {
        "id": "rBGdhjgTbIkt",
        "colab_type": "text"
      },
      "source": [
        "### 2 layers, 20 nodes, class weights"
      ]
    },
    {
      "cell_type": "code",
      "metadata": {
        "scrolled": true,
        "id": "9k1g5x91bIku",
        "colab_type": "code",
        "colab": {}
      },
      "source": [
        "# Setup some training parameters\n",
        "batch_size = 10000\n",
        "epochs = 20\n",
        "input_shape = ?\n",
        "\n",
        "# Build and train model\n",
        "model2 = \n",
        "\n",
        "history2 = "
      ],
      "execution_count": 0,
      "outputs": []
    },
    {
      "cell_type": "code",
      "metadata": {
        "id": "KsbRj53ybIkw",
        "colab_type": "code",
        "colab": {}
      },
      "source": [
        "# Evaluate model on test data\n",
        "score = \n",
        "\n",
        "print('Test loss: %.4f' % score[0])\n",
        "print('Test accuracy: %.4f' % score[1])"
      ],
      "execution_count": 0,
      "outputs": []
    },
    {
      "cell_type": "code",
      "metadata": {
        "id": "7OA7dsMGbIkz",
        "colab_type": "code",
        "colab": {}
      },
      "source": [
        "plot_results(history2)"
      ],
      "execution_count": 0,
      "outputs": []
    },
    {
      "cell_type": "markdown",
      "metadata": {
        "id": "ku950fUubIk3",
        "colab_type": "text"
      },
      "source": [
        "# Part 14: More questions\n",
        "\n",
        "Question 11: Why do we have to use a batch size? Why can't we simply use all data at once? This is more relevant for even larger datasets.\n",
        "\n",
        "Question 12: How busy is the GPU for a batch size of 100? How much GPU memory is used? Hint: run 'nvidia-smi' on the cloud computer a few times during training.\n",
        "\n",
        "Question 13: What is the processing time for one training epoch when the batch size is 100? What is the processing time for one epoch when the batch size is 1,000? What is the processing time for one epoch when the batch size is 10,000? Explain the results. \n",
        "\n",
        "Question 14: How many times are the weights in the DNN updated in each training epoch if the batch size is 100? How many times are the weights in the DNN updated in each training epoch if the batch size is 1,000? How many times are the weights in the DNN updated in each training epoch if the batch size is 10,000?  \n",
        "\n",
        "Question 15: What limits how large the batch size can be?\n",
        "\n",
        "Question 16: Generally speaking, how is the learning rate related to the batch size? If the batch size is decreased, how should the learning rate be changed?\n",
        "\n",
        "Lets use a batch size of 10,000 from now on, and a learning rate of 0.1."
      ]
    },
    {
      "cell_type": "markdown",
      "metadata": {
        "id": "JLUJlW6QbIk3",
        "colab_type": "text"
      },
      "source": [
        "# Part 15: Increasing the complexity\n",
        "\n",
        "Lets try some different configurations of number of layers and number of nodes per layer.\n",
        "\n",
        "Question 17: How many trainable parameters does the network with 4 dense layers with 50 nodes each have, compared to the initial network with 2 layers and 20 nodes per layer? Hint: use model.summary()"
      ]
    },
    {
      "cell_type": "markdown",
      "metadata": {
        "id": "iUvsvvzkbIk4",
        "colab_type": "text"
      },
      "source": [
        "### 4 layers, 20 nodes, class weights"
      ]
    },
    {
      "cell_type": "code",
      "metadata": {
        "scrolled": true,
        "id": "dxbfKReJbIk4",
        "colab_type": "code",
        "colab": {}
      },
      "source": [
        "# Setup some training parameters\n",
        "batch_size = 10000\n",
        "epochs = 20\n",
        "input_shape = ?\n",
        "\n",
        "# Build and train model\n",
        "model3 = \n",
        "\n",
        "history3 = "
      ],
      "execution_count": 0,
      "outputs": []
    },
    {
      "cell_type": "code",
      "metadata": {
        "id": "ASMj7zk6bIk6",
        "colab_type": "code",
        "colab": {}
      },
      "source": [
        "# Evaluate model on test data\n",
        "score = \n",
        "\n",
        "print('Test loss: %.4f' % score[0])\n",
        "print('Test accuracy: %.4f' % score[1])"
      ],
      "execution_count": 0,
      "outputs": []
    },
    {
      "cell_type": "code",
      "metadata": {
        "id": "gpKFR17nbIk9",
        "colab_type": "code",
        "colab": {}
      },
      "source": [
        "plot_results(history3)"
      ],
      "execution_count": 0,
      "outputs": []
    },
    {
      "cell_type": "markdown",
      "metadata": {
        "id": "sOacdDeKbIk_",
        "colab_type": "text"
      },
      "source": [
        "### 2 layers, 50 nodes, class weights"
      ]
    },
    {
      "cell_type": "code",
      "metadata": {
        "scrolled": true,
        "id": "g9PBMd3lbIlA",
        "colab_type": "code",
        "colab": {}
      },
      "source": [
        "# Setup some training parameters\n",
        "batch_size = 10000\n",
        "epochs = 20\n",
        "input_shape = ?\n",
        "\n",
        "# Build and train model\n",
        "model4 = \n",
        "\n",
        "history4 = "
      ],
      "execution_count": 0,
      "outputs": []
    },
    {
      "cell_type": "code",
      "metadata": {
        "id": "-e91Zi6rbIlC",
        "colab_type": "code",
        "colab": {}
      },
      "source": [
        "# Evaluate model on test data\n",
        "score = \n",
        "\n",
        "print('Test loss: %.4f' % score[0])\n",
        "print('Test accuracy: %.4f' % score[1])"
      ],
      "execution_count": 0,
      "outputs": []
    },
    {
      "cell_type": "code",
      "metadata": {
        "id": "T_MdcjTKbIlG",
        "colab_type": "code",
        "colab": {}
      },
      "source": [
        "plot_results(history4)"
      ],
      "execution_count": 0,
      "outputs": []
    },
    {
      "cell_type": "markdown",
      "metadata": {
        "id": "HYdUxqBAbIlI",
        "colab_type": "text"
      },
      "source": [
        "### 4 layers, 50 nodes, class weights"
      ]
    },
    {
      "cell_type": "code",
      "metadata": {
        "scrolled": true,
        "id": "u7znBC6CbIlI",
        "colab_type": "code",
        "colab": {}
      },
      "source": [
        "# Setup some training parameters\n",
        "batch_size = 10000\n",
        "epochs = 20\n",
        "input_shape = ?\n",
        "\n",
        "# Build and train model\n",
        "model5 = \n",
        "\n",
        "history5 = "
      ],
      "execution_count": 0,
      "outputs": []
    },
    {
      "cell_type": "code",
      "metadata": {
        "id": "pRzFTeIKbIlK",
        "colab_type": "code",
        "colab": {}
      },
      "source": [
        "# Evaluate model on test data\n",
        "score = \n",
        "\n",
        "print('Test loss: %.4f' % score[0])\n",
        "print('Test accuracy: %.4f' % score[1])"
      ],
      "execution_count": 0,
      "outputs": []
    },
    {
      "cell_type": "code",
      "metadata": {
        "id": "lHKa9yDhbIlL",
        "colab_type": "code",
        "colab": {}
      },
      "source": [
        "plot_results(history5)"
      ],
      "execution_count": 0,
      "outputs": []
    },
    {
      "cell_type": "markdown",
      "metadata": {
        "id": "J8piZAXabIlN",
        "colab_type": "text"
      },
      "source": [
        "# Part 16: Batch normalization\n",
        "\n",
        "Now add batch normalization after each dense layer. Remember to import BatchNormalization from keras.layers. \n",
        "\n",
        "See https://keras.io/layers/normalization/ for information about how to call the function.\n",
        "\n",
        "Question 18: Why is batch normalization important when training deep networks?"
      ]
    },
    {
      "cell_type": "markdown",
      "metadata": {
        "id": "TEPL22KLbIlO",
        "colab_type": "text"
      },
      "source": [
        "### 2 layers, 20 nodes, class weights, batch normalization"
      ]
    },
    {
      "cell_type": "code",
      "metadata": {
        "scrolled": true,
        "id": "yFoZ01WTbIlO",
        "colab_type": "code",
        "colab": {}
      },
      "source": [
        "# Setup some training parameters\n",
        "batch_size = 10000\n",
        "epochs = 20\n",
        "input_shape = ?\n",
        "\n",
        "# Build and train model\n",
        "model6 = \n",
        "\n",
        "history6 = "
      ],
      "execution_count": 0,
      "outputs": []
    },
    {
      "cell_type": "code",
      "metadata": {
        "id": "9YD_gj04bIlR",
        "colab_type": "code",
        "colab": {}
      },
      "source": [
        "# Evaluate model on test data\n",
        "score = \n",
        "\n",
        "print('Test loss: %.4f' % score[0])\n",
        "print('Test accuracy: %.4f' % score[1])"
      ],
      "execution_count": 0,
      "outputs": []
    },
    {
      "cell_type": "code",
      "metadata": {
        "id": "tW6PRqmnbIlT",
        "colab_type": "code",
        "colab": {}
      },
      "source": [
        "plot_results(history6)"
      ],
      "execution_count": 0,
      "outputs": []
    },
    {
      "cell_type": "markdown",
      "metadata": {
        "id": "b7LN5lfhbIlW",
        "colab_type": "text"
      },
      "source": [
        "# Part 17: Activation function\n",
        "\n",
        "Try changing the activation function in each layer from sigmoid to ReLU, write down the test accuracy.\n",
        "\n",
        "Note: the last layer should still have a sigmoid activation function."
      ]
    },
    {
      "cell_type": "markdown",
      "metadata": {
        "id": "8lTog6TvbIlX",
        "colab_type": "text"
      },
      "source": [
        "### 2 layers, 20 nodes, class weights, ReLU, no batch normalization"
      ]
    },
    {
      "cell_type": "code",
      "metadata": {
        "scrolled": true,
        "id": "VBv_MhLpbIlX",
        "colab_type": "code",
        "colab": {}
      },
      "source": [
        "# Setup some training parameters\n",
        "batch_size = 10000\n",
        "epochs = 20\n",
        "input_shape = ?\n",
        "\n",
        "# Build and train model\n",
        "model7 = \n",
        "\n",
        "history7 = "
      ],
      "execution_count": 0,
      "outputs": []
    },
    {
      "cell_type": "code",
      "metadata": {
        "id": "b-bVJCjpbIla",
        "colab_type": "code",
        "colab": {}
      },
      "source": [
        "# Evaluate model on test data\n",
        "score = \n",
        "\n",
        "print('Test loss: %.4f' % score[0])\n",
        "print('Test accuracy: %.4f' % score[1])"
      ],
      "execution_count": 0,
      "outputs": []
    },
    {
      "cell_type": "code",
      "metadata": {
        "id": "ugBPgOd2bIld",
        "colab_type": "code",
        "colab": {}
      },
      "source": [
        "plot_results(history7)"
      ],
      "execution_count": 0,
      "outputs": []
    },
    {
      "cell_type": "markdown",
      "metadata": {
        "id": "GfFhH7oBbIlf",
        "colab_type": "text"
      },
      "source": [
        "# Part 18: Optimizer\n",
        "\n",
        "Try changing the optimizer from SGD to Adam (with learning rate 0.1 as before). Remember to import the Adam optimizer from keras.optimizers. \n",
        "\n",
        "https://keras.io/optimizers/\n"
      ]
    },
    {
      "cell_type": "markdown",
      "metadata": {
        "id": "pqJpJGiEbIlg",
        "colab_type": "text"
      },
      "source": [
        "### 2 layers, 20 nodes, class weights, Adam optimizer, no batch normalization, sigmoid activations"
      ]
    },
    {
      "cell_type": "code",
      "metadata": {
        "scrolled": true,
        "id": "tNO31WZVbIlh",
        "colab_type": "code",
        "colab": {}
      },
      "source": [
        "# Setup some training parameters\n",
        "batch_size = 10000\n",
        "epochs = 20\n",
        "input_shape = ?\n",
        "\n",
        "# Build and train model\n",
        "model8 = \n",
        "\n",
        "history8 = "
      ],
      "execution_count": 0,
      "outputs": []
    },
    {
      "cell_type": "code",
      "metadata": {
        "id": "siAAkRd3bIlk",
        "colab_type": "code",
        "colab": {}
      },
      "source": [
        "# Evaluate model on test data\n",
        "score = \n",
        "\n",
        "print('Test loss: %.4f' % score[0])\n",
        "print('Test accuracy: %.4f' % score[1])"
      ],
      "execution_count": 0,
      "outputs": []
    },
    {
      "cell_type": "code",
      "metadata": {
        "id": "5RFmc7OcbIln",
        "colab_type": "code",
        "colab": {}
      },
      "source": [
        "plot_results(history8)"
      ],
      "execution_count": 0,
      "outputs": []
    },
    {
      "cell_type": "markdown",
      "metadata": {
        "id": "cN0ODlypbIlq",
        "colab_type": "text"
      },
      "source": [
        "# Part 19: Dropout regularization\n",
        "\n",
        "Dropout is a type of regularization that can improve accuracy for validation and test data. \n",
        "\n",
        "Add a Dropout layer after each Dense layer (but not after the final dense layer), with a dropout probability of 50%. Remember to first import the Dropout layer from keras.layers\n",
        "\n",
        "See https://keras.io/layers/core/ for how the Dropout layer works.\n",
        "\n",
        "---\n",
        "\n",
        "Question 19: How does the validation accuracy change when adding dropout?\n",
        "\n",
        "Question 20: How does the test accuracy change when adding dropout?"
      ]
    },
    {
      "cell_type": "markdown",
      "metadata": {
        "id": "4srgd3b2bIls",
        "colab_type": "text"
      },
      "source": [
        "### 2 layers, 20 nodes, class weights, dropout, SGD optimizer, no batch normalization, sigmoid activations"
      ]
    },
    {
      "cell_type": "code",
      "metadata": {
        "scrolled": true,
        "id": "SlRhNtSrbIls",
        "colab_type": "code",
        "colab": {}
      },
      "source": [
        "# Setup some training parameters\n",
        "batch_size = 10000\n",
        "epochs = 20\n",
        "input_shape = ?\n",
        "\n",
        "# Build and train model\n",
        "model9 = \n",
        "\n",
        "history9 = "
      ],
      "execution_count": 0,
      "outputs": []
    },
    {
      "cell_type": "code",
      "metadata": {
        "id": "kstHM6pSbIlv",
        "colab_type": "code",
        "colab": {}
      },
      "source": [
        "# Evaluate model on test data\n",
        "score = \n",
        "\n",
        "print('Test loss: %.4f' % score[0])\n",
        "print('Test accuracy: %.4f' % score[1])"
      ],
      "execution_count": 0,
      "outputs": []
    },
    {
      "cell_type": "code",
      "metadata": {
        "id": "2-3Liv3pbIlx",
        "colab_type": "code",
        "colab": {}
      },
      "source": [
        "plot_results(history9)"
      ],
      "execution_count": 0,
      "outputs": []
    },
    {
      "cell_type": "markdown",
      "metadata": {
        "id": "xA5V-cyUbIl2",
        "colab_type": "text"
      },
      "source": [
        "# Part 20: Improving performance\n",
        "\n",
        "Spend some time (30 - 90 minutes) playing with the network architecture (number of layers, number of nodes per layer, activation function) and other hyper parameters (optimizer, learning rate, batch size, number of epochs, degree of regularization). For example, try a much deeper network. How much does the training time increase for a network with 10 layers?\n",
        "\n",
        "Question 21: How high classification accuracy can you achieve for the test data? What is your best configuration?"
      ]
    },
    {
      "cell_type": "code",
      "metadata": {
        "scrolled": true,
        "id": "nUTaQiJ2bIl2",
        "colab_type": "code",
        "colab": {}
      },
      "source": [
        "# Find your best configuration for the DNN\n",
        "\n",
        "# Build and train DNN\n",
        "model10 = \n",
        "\n",
        "history10 = \n"
      ],
      "execution_count": 0,
      "outputs": []
    },
    {
      "cell_type": "code",
      "metadata": {
        "id": "WH56i67zbIl6",
        "colab_type": "code",
        "colab": {}
      },
      "source": [
        "# Evaluate DNN on test data\n",
        "score = \n",
        "\n",
        "print('Test loss: %.4f' % score[0])\n",
        "print('Test accuracy: %.4f' % score[1])"
      ],
      "execution_count": 0,
      "outputs": []
    },
    {
      "cell_type": "markdown",
      "metadata": {
        "id": "QE_lAuL2bIl_",
        "colab_type": "text"
      },
      "source": [
        "# Part 21: Dropout uncertainty\n",
        "\n",
        "Dropout can also be used during testing, to obtain an estimate of the model uncertainty. Since dropout will randomly remove connections, the network will produce different results every time the same (test) data is put into the network. This technique is called Monte Carlo dropout. For more information, see this paper http://proceedings.mlr.press/v48/gal16.pdf\n",
        "\n",
        "To achieve this, we need to redefine the Keras Dropout call by running the cell below, and use 'myDropout' in each call to Dropout, in the cell that defines the DNN.\n",
        "\n",
        "Run the same test data through the trained network 100 times, with dropout turned on. \n",
        "\n",
        "Question 22: What is the mean and the standard deviation of the test accuracy?"
      ]
    },
    {
      "cell_type": "code",
      "metadata": {
        "id": "MwNcgKQbbIl_",
        "colab_type": "code",
        "colab": {}
      },
      "source": [
        "import keras\n",
        "\n",
        "class myDropout(keras.layers.Dropout):\n",
        "    \"\"\"Applies Dropout to the input.\n",
        "    Dropout consists in randomly setting\n",
        "    a fraction `rate` of input units to 0 at each update during training time,\n",
        "    which helps prevent overfitting.\n",
        "    # Arguments\n",
        "        rate: float between 0 and 1. Fraction of the input units to drop.\n",
        "        noise_shape: 1D integer tensor representing the shape of the\n",
        "            binary dropout mask that will be multiplied with the input.\n",
        "            For instance, if your inputs have shape\n",
        "            `(batch_size, timesteps, features)` and\n",
        "            you want the dropout mask to be the same for all timesteps,\n",
        "            you can use `noise_shape=(batch_size, 1, features)`.\n",
        "        seed: A Python integer to use as random seed.\n",
        "    # References\n",
        "        - [Dropout: A Simple Way to Prevent Neural Networks from Overfitting](\n",
        "           http://www.jmlr.org/papers/volume15/srivastava14a/srivastava14a.pdf)\n",
        "    \"\"\"\n",
        "    def __init__(self, rate, training=True, noise_shape=None, seed=None, **kwargs):\n",
        "        super(myDropout, self).__init__(rate, noise_shape=None, seed=None,**kwargs)\n",
        "        self.training = training\n",
        "\n",
        "        \n",
        "    def call(self, inputs, training=None):\n",
        "        if 0. < self.rate < 1.:\n",
        "            noise_shape = self._get_noise_shape(inputs)\n",
        "\n",
        "            def dropped_inputs():\n",
        "                return K.dropout(inputs, self.rate, noise_shape,\n",
        "                                 seed=self.seed)\n",
        "            if not training: \n",
        "                return K.in_train_phase(dropped_inputs, inputs, training=self.training)\n",
        "            return K.in_train_phase(dropped_inputs, inputs, training=training)\n",
        "        return inputs"
      ],
      "execution_count": 0,
      "outputs": []
    },
    {
      "cell_type": "markdown",
      "metadata": {
        "id": "fFK7xzzdbImE",
        "colab_type": "text"
      },
      "source": [
        "### Your best config, custom dropout"
      ]
    },
    {
      "cell_type": "code",
      "metadata": {
        "scrolled": true,
        "id": "WhGbHJGnbImF",
        "colab_type": "code",
        "colab": {}
      },
      "source": [
        "# Your best training parameters\n",
        "\n",
        "\n",
        "# Build and train model\n",
        "model11 = \n",
        "\n",
        "history11 = "
      ],
      "execution_count": 0,
      "outputs": []
    },
    {
      "cell_type": "code",
      "metadata": {
        "id": "-y1Kp2lWbImJ",
        "colab_type": "code",
        "colab": {}
      },
      "source": [
        "# Run this cell a few times to evalute the model on test data, \n",
        "# if you get slightly different test accuracy every time, Dropout during testing is working\n",
        "\n",
        "# Evaluate model on test data\n",
        "score = \n",
        "                       \n",
        "print('Test accuracy: %.4f' % score[1])"
      ],
      "execution_count": 0,
      "outputs": []
    },
    {
      "cell_type": "code",
      "metadata": {
        "id": "yxU2hvtVbImN",
        "colab_type": "code",
        "colab": {}
      },
      "source": [
        "# Run the testing 100 times, and save the accuracies in an array\n",
        "\n",
        "    \n",
        "# Calculate and print mean and std of accuracies\n",
        "\n"
      ],
      "execution_count": 0,
      "outputs": []
    },
    {
      "cell_type": "markdown",
      "metadata": {
        "id": "Y7kac5H8bImQ",
        "colab_type": "text"
      },
      "source": [
        "# Part 22: Cross validation uncertainty\n",
        "\n",
        "Cross validation (CV) is often used to evaluate a model, by training and testing using different subsets of the data it is possible to get the uncertainty as the standard deviation over folds. We here use a help function from scikit-learn to setup the CV, see https://scikit-learn.org/stable/modules/generated/sklearn.model_selection.StratifiedKFold.html . Use 10 folds with shuffling, random state 1234. \n",
        "\n",
        "Note: We here assume that you have found the best hyper parameters, so here the data are only split into training and testing, no validation.\n",
        "\n",
        "---\n",
        "\n",
        "Question 23: What is the mean and the standard deviation of the test accuracy?\n",
        "\n",
        "Question 24: What is the main advantage of dropout compared to CV for estimating test uncertainty?"
      ]
    },
    {
      "cell_type": "code",
      "metadata": {
        "id": "AgBfGfgObImR",
        "colab_type": "code",
        "colab": {}
      },
      "source": [
        "from sklearn.model_selection import StratifiedKFold\n",
        "\n",
        "# Define 10-fold cross validation\n",
        "\n",
        "# Loop over cross validation folds\n",
        "    \n",
        "    # Calculate class weights for current split\n",
        "    \n",
        "    # Rebuild the DNN model, to not continue training on the previously trained model\n",
        "    \n",
        "    # Fit the model with training set and class weights for this fold\n",
        "    \n",
        "    # Evaluate the model using the test set for this fold\n",
        "    \n",
        "    # Save the test accuracy in an array\n",
        "\n",
        "# Calculate and print mean and std of accuracies\n",
        "\n"
      ],
      "execution_count": 0,
      "outputs": []
    },
    {
      "cell_type": "markdown",
      "metadata": {
        "id": "mgJM6yw4bImU",
        "colab_type": "text"
      },
      "source": [
        "# Part 23: DNN regression\n",
        "\n",
        "A similar DNN can be used for regression, instead of classification.\n",
        "\n",
        "Question 25: How would you change the DNN in order to use it for regression instead?"
      ]
    },
    {
      "cell_type": "markdown",
      "metadata": {
        "id": "f9zoTxMtbImV",
        "colab_type": "text"
      },
      "source": [
        "## Report\n",
        "\n",
        "Send in this jupyter notebook, with answers to all questions."
      ]
    }
  ]
}